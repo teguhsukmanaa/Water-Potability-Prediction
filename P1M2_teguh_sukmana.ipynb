{
 "cells": [
  {
   "cell_type": "markdown",
   "metadata": {},
   "source": [
    "# Introduction"
   ]
  },
  {
   "cell_type": "markdown",
   "metadata": {},
   "source": [
    "### Identity"
   ]
  },
  {
   "cell_type": "markdown",
   "metadata": {},
   "source": [
    "=== **Milestone 2** ===\n",
    "\n",
    "Nama : Teguh Sukmanaputra <br>\n",
    "Batch : RMT-029\n",
    "\n",
    "\n",
    "Project ini merupakan sebuah supervised machine learning model yang bertujuan untuk memprediksi klasifikasi kualitas air yang layak minum berdasarkan fitur-fiturnya. Pada permodelannya, project ini akan menggunakan beberapa model algoritma seperti KNN, SVM, Decision Tree, dan Random Forest yang kemudian akan dikombinasikan melalui teknik Ensemble Learning untuk menghasilkan sebuah model baru yang lebih kuat dan akurat. "
   ]
  },
  {
   "cell_type": "markdown",
   "metadata": {},
   "source": [
    "### Dataset Overview"
   ]
  },
  {
   "cell_type": "markdown",
   "metadata": {},
   "source": [
    "Dataset yang digunakan pada project ini merupakan data terkait kualitas air dari beragam sampel air yang didasarkan pada berbagai parameter pengukuran karakteristik dan kandungan air. \n",
    "\n",
    "Sumber Dataset: <br>\n",
    "https://www.kaggle.com/datasets/adityakadiwal/water-potability"
   ]
  },
  {
   "cell_type": "markdown",
   "metadata": {},
   "source": [
    "Berikut merupakan deskripsi fitur-fitur yang ada didalam dataset:  \n",
    "1. `ph`: Nilai pH air (rentang 0-14).\n",
    "2. `Hardness`: Nilai kapasitas air untuk mengendapkan sabun yang disebabkan oleh Kalsium dan Magnesium (mg/L).\n",
    "3. `Solids`: Nilai Total Dissolved Solids (TDS)/jumlah padatan terlarut dalam air (ppm).\n",
    "4. `Chloramines`: Jumlah Chloramines dalam air (ppm).\n",
    "5. `Sulfate`: Jumlah Sulfates terlarut dalam air (mg/L).\n",
    "6. `Conductivity`: Tingkat Electrical conductivity air (μS/cm).\n",
    "7. `Organic_carbon`: Jumlah Organic Carbon dalam air (ppm).\n",
    "8. `Trihalomethanes`: Jumlah Trihalomethanes dalam air (μg/L).\n",
    "9. `Turbidity`: Tingkat kekeruhan/Pengukuran kemampuan pancaran cahaya air (NTU).\n",
    "10. `Potability`: Indikasi keamanan air untuk dikonsumsi (1=Layak/Berpotensi Konsumsi; 0=Tidak Layak).\n",
    "\n",
    "- Keterangan satuan ukur:\n",
    "    + ppm: parts per million\n",
    "    + μg/L: microgram per liter\n",
    "    + mg/L: milligram per liter\n",
    "    + µS/cm: microsiemens per centimeter (unit in the category of Electric conductivity)\n",
    "    + NTU: Nephelometric Turbidity Unit (the unit used to measure the turbidity)\n"
   ]
  },
  {
   "cell_type": "markdown",
   "metadata": {},
   "source": [
    "---"
   ]
  },
  {
   "cell_type": "markdown",
   "metadata": {},
   "source": [
    "# Import Libraries"
   ]
  },
  {
   "cell_type": "code",
   "execution_count": 103,
   "metadata": {},
   "outputs": [],
   "source": [
    "# Libraries\n",
    "import pandas as pd\n",
    "import seaborn as sns\n",
    "import numpy as np\n",
    "import pickle\n",
    "from matplotlib import pyplot as plt\n",
    "from sklearn.model_selection import train_test_split\n",
    "from feature_engine.outliers import Winsorizer\n",
    "from sklearn.feature_selection import f_oneway\n",
    "from sklearn.preprocessing import StandardScaler, MinMaxScaler\n",
    "from sklearn.compose import ColumnTransformer, make_column_selector as selector\n",
    "from sklearn.pipeline import Pipeline\n",
    "from sklearn.neighbors import KNeighborsClassifier\n",
    "from sklearn.svm import SVC\n",
    "from sklearn.tree import DecisionTreeClassifier\n",
    "from sklearn.ensemble import RandomForestClassifier\n",
    "from xgboost import XGBClassifier\n",
    "from sklearn.metrics import classification_report, f1_score, accuracy_score, precision_score, recall_score, roc_auc_score\n",
    "from sklearn.model_selection import GridSearchCV, cross_val_score"
   ]
  },
  {
   "cell_type": "markdown",
   "metadata": {},
   "source": [
    "---"
   ]
  },
  {
   "cell_type": "markdown",
   "metadata": {},
   "source": [
    "# Data Loading"
   ]
  },
  {
   "cell_type": "code",
   "execution_count": 5,
   "metadata": {},
   "outputs": [],
   "source": [
    "# Load dataset\n",
    "df = pd.read_csv('water_potability.csv')"
   ]
  },
  {
   "cell_type": "code",
   "execution_count": 3,
   "metadata": {},
   "outputs": [],
   "source": [
    "# Salinan dataset\n",
    "df_copy = df.copy()"
   ]
  },
  {
   "cell_type": "code",
   "execution_count": 4,
   "metadata": {},
   "outputs": [
    {
     "data": {
      "text/html": [
       "<div>\n",
       "<style scoped>\n",
       "    .dataframe tbody tr th:only-of-type {\n",
       "        vertical-align: middle;\n",
       "    }\n",
       "\n",
       "    .dataframe tbody tr th {\n",
       "        vertical-align: top;\n",
       "    }\n",
       "\n",
       "    .dataframe thead th {\n",
       "        text-align: right;\n",
       "    }\n",
       "</style>\n",
       "<table border=\"1\" class=\"dataframe\">\n",
       "  <thead>\n",
       "    <tr style=\"text-align: right;\">\n",
       "      <th></th>\n",
       "      <th>ph</th>\n",
       "      <th>Hardness</th>\n",
       "      <th>Solids</th>\n",
       "      <th>Chloramines</th>\n",
       "      <th>Sulfate</th>\n",
       "      <th>Conductivity</th>\n",
       "      <th>Organic_carbon</th>\n",
       "      <th>Trihalomethanes</th>\n",
       "      <th>Turbidity</th>\n",
       "      <th>Potability</th>\n",
       "    </tr>\n",
       "  </thead>\n",
       "  <tbody>\n",
       "    <tr>\n",
       "      <th>0</th>\n",
       "      <td>NaN</td>\n",
       "      <td>204.890455</td>\n",
       "      <td>20791.318981</td>\n",
       "      <td>7.300212</td>\n",
       "      <td>368.516441</td>\n",
       "      <td>564.308654</td>\n",
       "      <td>10.379783</td>\n",
       "      <td>86.990970</td>\n",
       "      <td>2.963135</td>\n",
       "      <td>0</td>\n",
       "    </tr>\n",
       "    <tr>\n",
       "      <th>1</th>\n",
       "      <td>3.716080</td>\n",
       "      <td>129.422921</td>\n",
       "      <td>18630.057858</td>\n",
       "      <td>6.635246</td>\n",
       "      <td>NaN</td>\n",
       "      <td>592.885359</td>\n",
       "      <td>15.180013</td>\n",
       "      <td>56.329076</td>\n",
       "      <td>4.500656</td>\n",
       "      <td>0</td>\n",
       "    </tr>\n",
       "    <tr>\n",
       "      <th>2</th>\n",
       "      <td>8.099124</td>\n",
       "      <td>224.236259</td>\n",
       "      <td>19909.541732</td>\n",
       "      <td>9.275884</td>\n",
       "      <td>NaN</td>\n",
       "      <td>418.606213</td>\n",
       "      <td>16.868637</td>\n",
       "      <td>66.420093</td>\n",
       "      <td>3.055934</td>\n",
       "      <td>0</td>\n",
       "    </tr>\n",
       "    <tr>\n",
       "      <th>3</th>\n",
       "      <td>8.316766</td>\n",
       "      <td>214.373394</td>\n",
       "      <td>22018.417441</td>\n",
       "      <td>8.059332</td>\n",
       "      <td>356.886136</td>\n",
       "      <td>363.266516</td>\n",
       "      <td>18.436524</td>\n",
       "      <td>100.341674</td>\n",
       "      <td>4.628771</td>\n",
       "      <td>0</td>\n",
       "    </tr>\n",
       "    <tr>\n",
       "      <th>4</th>\n",
       "      <td>9.092223</td>\n",
       "      <td>181.101509</td>\n",
       "      <td>17978.986339</td>\n",
       "      <td>6.546600</td>\n",
       "      <td>310.135738</td>\n",
       "      <td>398.410813</td>\n",
       "      <td>11.558279</td>\n",
       "      <td>31.997993</td>\n",
       "      <td>4.075075</td>\n",
       "      <td>0</td>\n",
       "    </tr>\n",
       "    <tr>\n",
       "      <th>...</th>\n",
       "      <td>...</td>\n",
       "      <td>...</td>\n",
       "      <td>...</td>\n",
       "      <td>...</td>\n",
       "      <td>...</td>\n",
       "      <td>...</td>\n",
       "      <td>...</td>\n",
       "      <td>...</td>\n",
       "      <td>...</td>\n",
       "      <td>...</td>\n",
       "    </tr>\n",
       "    <tr>\n",
       "      <th>3271</th>\n",
       "      <td>4.668102</td>\n",
       "      <td>193.681735</td>\n",
       "      <td>47580.991603</td>\n",
       "      <td>7.166639</td>\n",
       "      <td>359.948574</td>\n",
       "      <td>526.424171</td>\n",
       "      <td>13.894419</td>\n",
       "      <td>66.687695</td>\n",
       "      <td>4.435821</td>\n",
       "      <td>1</td>\n",
       "    </tr>\n",
       "    <tr>\n",
       "      <th>3272</th>\n",
       "      <td>7.808856</td>\n",
       "      <td>193.553212</td>\n",
       "      <td>17329.802160</td>\n",
       "      <td>8.061362</td>\n",
       "      <td>NaN</td>\n",
       "      <td>392.449580</td>\n",
       "      <td>19.903225</td>\n",
       "      <td>NaN</td>\n",
       "      <td>2.798243</td>\n",
       "      <td>1</td>\n",
       "    </tr>\n",
       "    <tr>\n",
       "      <th>3273</th>\n",
       "      <td>9.419510</td>\n",
       "      <td>175.762646</td>\n",
       "      <td>33155.578218</td>\n",
       "      <td>7.350233</td>\n",
       "      <td>NaN</td>\n",
       "      <td>432.044783</td>\n",
       "      <td>11.039070</td>\n",
       "      <td>69.845400</td>\n",
       "      <td>3.298875</td>\n",
       "      <td>1</td>\n",
       "    </tr>\n",
       "    <tr>\n",
       "      <th>3274</th>\n",
       "      <td>5.126763</td>\n",
       "      <td>230.603758</td>\n",
       "      <td>11983.869376</td>\n",
       "      <td>6.303357</td>\n",
       "      <td>NaN</td>\n",
       "      <td>402.883113</td>\n",
       "      <td>11.168946</td>\n",
       "      <td>77.488213</td>\n",
       "      <td>4.708658</td>\n",
       "      <td>1</td>\n",
       "    </tr>\n",
       "    <tr>\n",
       "      <th>3275</th>\n",
       "      <td>7.874671</td>\n",
       "      <td>195.102299</td>\n",
       "      <td>17404.177061</td>\n",
       "      <td>7.509306</td>\n",
       "      <td>NaN</td>\n",
       "      <td>327.459760</td>\n",
       "      <td>16.140368</td>\n",
       "      <td>78.698446</td>\n",
       "      <td>2.309149</td>\n",
       "      <td>1</td>\n",
       "    </tr>\n",
       "  </tbody>\n",
       "</table>\n",
       "<p>3276 rows × 10 columns</p>\n",
       "</div>"
      ],
      "text/plain": [
       "            ph    Hardness        Solids  Chloramines     Sulfate  \\\n",
       "0          NaN  204.890455  20791.318981     7.300212  368.516441   \n",
       "1     3.716080  129.422921  18630.057858     6.635246         NaN   \n",
       "2     8.099124  224.236259  19909.541732     9.275884         NaN   \n",
       "3     8.316766  214.373394  22018.417441     8.059332  356.886136   \n",
       "4     9.092223  181.101509  17978.986339     6.546600  310.135738   \n",
       "...        ...         ...           ...          ...         ...   \n",
       "3271  4.668102  193.681735  47580.991603     7.166639  359.948574   \n",
       "3272  7.808856  193.553212  17329.802160     8.061362         NaN   \n",
       "3273  9.419510  175.762646  33155.578218     7.350233         NaN   \n",
       "3274  5.126763  230.603758  11983.869376     6.303357         NaN   \n",
       "3275  7.874671  195.102299  17404.177061     7.509306         NaN   \n",
       "\n",
       "      Conductivity  Organic_carbon  Trihalomethanes  Turbidity  Potability  \n",
       "0       564.308654       10.379783        86.990970   2.963135           0  \n",
       "1       592.885359       15.180013        56.329076   4.500656           0  \n",
       "2       418.606213       16.868637        66.420093   3.055934           0  \n",
       "3       363.266516       18.436524       100.341674   4.628771           0  \n",
       "4       398.410813       11.558279        31.997993   4.075075           0  \n",
       "...            ...             ...              ...        ...         ...  \n",
       "3271    526.424171       13.894419        66.687695   4.435821           1  \n",
       "3272    392.449580       19.903225              NaN   2.798243           1  \n",
       "3273    432.044783       11.039070        69.845400   3.298875           1  \n",
       "3274    402.883113       11.168946        77.488213   4.708658           1  \n",
       "3275    327.459760       16.140368        78.698446   2.309149           1  \n",
       "\n",
       "[3276 rows x 10 columns]"
      ]
     },
     "execution_count": 4,
     "metadata": {},
     "output_type": "execute_result"
    }
   ],
   "source": [
    "# Data Overview\n",
    "df"
   ]
  },
  {
   "cell_type": "code",
   "execution_count": 5,
   "metadata": {},
   "outputs": [
    {
     "data": {
      "text/plain": [
       "0"
      ]
     },
     "execution_count": 5,
     "metadata": {},
     "output_type": "execute_result"
    }
   ],
   "source": [
    "# Duplicates check\n",
    "df.duplicated().sum()"
   ]
  },
  {
   "cell_type": "markdown",
   "metadata": {},
   "source": [
    "Tidak terdapat data duplicates."
   ]
  },
  {
   "cell_type": "code",
   "execution_count": 6,
   "metadata": {},
   "outputs": [
    {
     "data": {
      "text/plain": [
       "ph                 491\n",
       "Hardness             0\n",
       "Solids               0\n",
       "Chloramines          0\n",
       "Sulfate            781\n",
       "Conductivity         0\n",
       "Organic_carbon       0\n",
       "Trihalomethanes    162\n",
       "Turbidity            0\n",
       "Potability           0\n",
       "dtype: int64"
      ]
     },
     "execution_count": 6,
     "metadata": {},
     "output_type": "execute_result"
    }
   ],
   "source": [
    "# Missing value check\n",
    "df.isnull().sum()"
   ]
  },
  {
   "cell_type": "markdown",
   "metadata": {},
   "source": [
    "Dapat terlihat bahwa terdapat cukup banyak missing value pada dataset ini yaitu pada kolom `pH`, `Sulfate`, dan `Trihalomethanes`."
   ]
  },
  {
   "cell_type": "markdown",
   "metadata": {},
   "source": [
    "---"
   ]
  },
  {
   "cell_type": "markdown",
   "metadata": {},
   "source": [
    "# Exploratory Data Analysis (EDA)"
   ]
  },
  {
   "cell_type": "markdown",
   "metadata": {},
   "source": [
    "### Potability Data Proportion"
   ]
  },
  {
   "cell_type": "code",
   "execution_count": 93,
   "metadata": {},
   "outputs": [
    {
     "data": {
      "image/png": "[encoded data removed]",
      "text/plain": [
       "<Figure size 1000x500 with 1 Axes>"
      ]
     },
     "metadata": {},
     "output_type": "display_data"
    }
   ],
   "source": [
    "# Data class proportion\n",
    "# Pie chart\n",
    "labels = ['Non-Potable', 'Potable']\n",
    "size = df['Potability'].value_counts()\n",
    "colors = ['skyblue', 'dodgerblue']\n",
    "explode = [0.1, 0]\n",
    "\n",
    "fig, axes = plt.subplots(figsize=(10, 5))\n",
    "plt.pie(size, colors = colors, explode = explode,\n",
    "        labels = labels, startangle = 90, autopct = '%.2f%%')\n",
    "plt.title('Potability Data Proportion', fontsize = 15)\n",
    "plt.legend()\n",
    "plt.show()"
   ]
  },
  {
   "cell_type": "markdown",
   "metadata": {},
   "source": [
    "Dapat diketahui bahwa proporsi kelas klasifikasi pada dataset ini tidak seimbang, yang mana dataset ini didominasi oleh data kelas Non-Potable(0) yaitu sebesar 61% dan data kelas Potable(1) sebesar 39%. Adanya ketidakseimbangan proporsi data kelas ini dapat berpotensi adanya bias ketika training model sehingga akan menurunkan performa model dalam melakukan prediksi."
   ]
  },
  {
   "cell_type": "markdown",
   "metadata": {},
   "source": [
    "### Features Data Distribution"
   ]
  },
  {
   "cell_type": "markdown",
   "metadata": {},
   "source": [
    "#### a.) Distribution - pH"
   ]
  },
  {
   "cell_type": "code",
   "execution_count": 114,
   "metadata": {},
   "outputs": [
    {
     "data": {
      "image/png": "[encoded data removed]",
      "text/plain": [
       "<Figure size 1700x800 with 1 Axes>"
      ]
     },
     "metadata": {},
     "output_type": "display_data"
    }
   ],
   "source": [
    "# Create histogram\n",
    "plt.figure(figsize=(17, 8))\n",
    "sns.histplot(data=df, x='ph', hue='Potability', bins=100, multiple='dodge', palette=['skyblue', 'dodgerblue'])\n",
    "plt.xlabel('pH Level')\n",
    "plt.ylabel('Count')\n",
    "plt.title('pH Level Distribution Histogram', fontsize=18)\n",
    "\n",
    "# Adjust figure layout\n",
    "plt.subplots_adjust(left=0.1, right=0.85, top=0.85, bottom=0.1)\n",
    "\n",
    "# Show figure\n",
    "plt.show()"
   ]
  },
  {
   "cell_type": "markdown",
   "metadata": {},
   "source": [
    "Berdasarkan visualisasi dari histogram, secara keseluruhan data pH dapat dikatakan berdistribusi normal, namun masih dapat terlihat beberapa data di ujung kiri dan kanan histogram yang bisa saja terindikasi sebagai extreme values/outliers. Terkait tentang ph air, ph sendiri merupakan sebuah tingkat asam-basa sebuah materi. Adapun tingkat pH pada air konsumsi biasanya berkisar pada 6.5-8.5, yang mana pada histogram ini dapat kita ihat bahwa air yang layak konsumsi (potable) banyak berkumpul di rentang pH 6-8."
   ]
  },
  {
   "cell_type": "markdown",
   "metadata": {},
   "source": [
    "#### b.) Distribution - Hardness"
   ]
  },
  {
   "cell_type": "code",
   "execution_count": 115,
   "metadata": {},
   "outputs": [
    {
     "data": {
      "image/png": "[encoded data removed]",
      "text/plain": [
       "<Figure size 1700x800 with 1 Axes>"
      ]
     },
     "metadata": {},
     "output_type": "display_data"
    }
   ],
   "source": [
    "# Create histogram\n",
    "plt.figure(figsize=(17, 8))\n",
    "sns.histplot(data=df, x='Hardness', hue='Potability', bins=100, multiple='dodge', palette=['skyblue', 'dodgerblue'])\n",
    "plt.xlabel('Hardness (mg/L)')\n",
    "plt.ylabel('Count')\n",
    "plt.title('Hardness Distribution Histogram', fontsize=18)\n",
    "\n",
    "# Adjust figure layout\n",
    "plt.subplots_adjust(left=0.1, right=0.85, top=0.85, bottom=0.1)\n",
    "\n",
    "# Show figure\n",
    "plt.show()\n"
   ]
  },
  {
   "cell_type": "markdown",
   "metadata": {},
   "source": [
    "#### c.) Distribution - Solids"
   ]
  },
  {
   "cell_type": "code",
   "execution_count": 116,
   "metadata": {},
   "outputs": [
    {
     "data": {
      "image/png": "[encoded data removed]",
      "text/plain": [
       "<Figure size 1700x800 with 1 Axes>"
      ]
     },
     "metadata": {},
     "output_type": "display_data"
    }
   ],
   "source": [
    "# Create histogram\n",
    "plt.figure(figsize=(17, 8))\n",
    "sns.histplot(data=df, x='Solids', hue='Potability', bins=100, multiple='dodge', palette=['skyblue', 'dodgerblue'])\n",
    "plt.xlabel('Dissolved Solids (ppm)')\n",
    "plt.ylabel('Count')\n",
    "plt.title('Total Dissolved Solids Distribution Histogram', fontsize=18)\n",
    "\n",
    "# Adjust figure layout\n",
    "plt.subplots_adjust(left=0.1, right=0.85, top=0.85, bottom=0.1)\n",
    "\n",
    "# Show figure\n",
    "plt.show()"
   ]
  },
  {
   "cell_type": "markdown",
   "metadata": {},
   "source": [
    "#### d.) Distribution - Chloramines"
   ]
  },
  {
   "cell_type": "code",
   "execution_count": 118,
   "metadata": {},
   "outputs": [
    {
     "data": {
      "image/png": "[encoded data removed]",
      "text/plain": [
       "<Figure size 1700x800 with 1 Axes>"
      ]
     },
     "metadata": {},
     "output_type": "display_data"
    }
   ],
   "source": [
    "# Create histogram\n",
    "plt.figure(figsize=(17, 8))\n",
    "sns.histplot(data=df, x='Chloramines', hue='Potability', bins=100, multiple='dodge', palette=['skyblue', 'dodgerblue'])\n",
    "plt.xlabel('Amount of Chloramines (ppm)')\n",
    "plt.ylabel('Count')\n",
    "plt.title('Chloramines Distribution Histogram', fontsize=18)\n",
    "\n",
    "# Adjust figure layout\n",
    "plt.subplots_adjust(left=0.1, right=0.85, top=0.85, bottom=0.1)\n",
    "\n",
    "# Show figure\n",
    "plt.show()"
   ]
  },
  {
   "cell_type": "markdown",
   "metadata": {},
   "source": [
    "#### e.) Distribution - Sulfate"
   ]
  },
  {
   "cell_type": "code",
   "execution_count": 126,
   "metadata": {},
   "outputs": [
    {
     "data": {
      "image/png": "[encoded data removed]",
      "text/plain": [
       "<Figure size 1700x800 with 1 Axes>"
      ]
     },
     "metadata": {},
     "output_type": "display_data"
    }
   ],
   "source": [
    "# Create histogram\n",
    "plt.figure(figsize=(17, 8))\n",
    "sns.histplot(data=df, x='Sulfate', hue='Potability', bins=100, multiple='dodge', palette=['skyblue', 'dodgerblue'])\n",
    "plt.xlabel('Amount of Sulfate (mg/L)')\n",
    "plt.ylabel('Count')\n",
    "plt.title('Sulfate Distribution Histogram', fontsize=18)\n",
    "\n",
    "# Adjust figure layout\n",
    "plt.subplots_adjust(left=0.1, right=0.85, top=0.85, bottom=0.1)\n",
    "\n",
    "# Show figure\n",
    "plt.show()"
   ]
  },
  {
   "cell_type": "markdown",
   "metadata": {},
   "source": [
    "#### f.) Distribution - Conductivity"
   ]
  },
  {
   "cell_type": "code",
   "execution_count": 125,
   "metadata": {},
   "outputs": [
    {
     "data": {
      "image/png": "[encoded data removed]",
      "text/plain": [
       "<Figure size 1700x800 with 1 Axes>"
      ]
     },
     "metadata": {},
     "output_type": "display_data"
    }
   ],
   "source": [
    "# Create histogram\n",
    "plt.figure(figsize=(17, 8))\n",
    "sns.histplot(data=df, x='Conductivity', hue='Potability', bins=100, multiple='dodge', palette=['skyblue', 'dodgerblue'])\n",
    "plt.xlabel('Conductivity (μS/cm)')\n",
    "plt.ylabel('Count')\n",
    "plt.title('Conductivity Distribution Histogram', fontsize=18)\n",
    "\n",
    "# Adjust figure layout\n",
    "plt.subplots_adjust(left=0.1, right=0.85, top=0.85, bottom=0.1)\n",
    "\n",
    "# Show figure\n",
    "plt.show()"
   ]
  },
  {
   "cell_type": "markdown",
   "metadata": {},
   "source": [
    "#### g.) Distribution - Organic Carbon"
   ]
  },
  {
   "cell_type": "code",
   "execution_count": 124,
   "metadata": {},
   "outputs": [
    {
     "data": {
      "image/png": "[encoded data removed]",
      "text/plain": [
       "<Figure size 1700x800 with 1 Axes>"
      ]
     },
     "metadata": {},
     "output_type": "display_data"
    }
   ],
   "source": [
    "# Create histogram\n",
    "plt.figure(figsize=(17, 8))\n",
    "sns.histplot(data=df, x='Organic_carbon', hue='Potability', bins=100, multiple='dodge', palette=['skyblue', 'dodgerblue'])\n",
    "plt.xlabel('Amount of Organic Carbon (ppm)')\n",
    "plt.ylabel('Count')\n",
    "plt.title('Organic Carbon Distribution Histogram', fontsize=18)\n",
    "\n",
    "# Adjust figure layout\n",
    "plt.subplots_adjust(left=0.1, right=0.85, top=0.85, bottom=0.1)\n",
    "\n",
    "# Show figure\n",
    "plt.show()"
   ]
  },
  {
   "cell_type": "markdown",
   "metadata": {},
   "source": [
    "#### h.) Distribution - Trihalomethanes"
   ]
  },
  {
   "cell_type": "code",
   "execution_count": 123,
   "metadata": {},
   "outputs": [
    {
     "data": {
      "image/png": "[encoded data removed]",
      "text/plain": [
       "<Figure size 1700x800 with 1 Axes>"
      ]
     },
     "metadata": {},
     "output_type": "display_data"
    }
   ],
   "source": [
    "# Create histogram\n",
    "plt.figure(figsize=(17, 8))\n",
    "sns.histplot(data=df, x='Trihalomethanes', hue='Potability', bins=100, multiple='dodge', palette=['skyblue', 'dodgerblue'])\n",
    "plt.xlabel('Amount of Trihalomethanes (μg/L)')\n",
    "plt.ylabel('Count')\n",
    "plt.title('Trihalomethanes Distribution Histogram', fontsize=18)\n",
    "\n",
    "# Adjust figure layout\n",
    "plt.subplots_adjust(left=0.1, right=0.85, top=0.85, bottom=0.1)\n",
    "\n",
    "# Show figure\n",
    "plt.show()"
   ]
  },
  {
   "cell_type": "markdown",
   "metadata": {},
   "source": [
    "#### i.) Distribution - Turbidity"
   ]
  },
  {
   "cell_type": "code",
   "execution_count": 122,
   "metadata": {},
   "outputs": [
    {
     "data": {
      "image/png": "[encoded data removed]",
      "text/plain": [
       "<Figure size 1700x800 with 1 Axes>"
      ]
     },
     "metadata": {},
     "output_type": "display_data"
    }
   ],
   "source": [
    "# Create histogram\n",
    "plt.figure(figsize=(17, 8))\n",
    "sns.histplot(data=df, x='Turbidity', hue='Potability', bins=100, multiple='dodge', palette=['skyblue', 'dodgerblue'])\n",
    "plt.xlabel('Turbidity (NTU)')\n",
    "plt.ylabel('Count')\n",
    "plt.title('Turbidity Distribution Histogram', fontsize=18)\n",
    "\n",
    "# Adjust figure layout\n",
    "plt.subplots_adjust(left=0.1, right=0.85, top=0.85, bottom=0.1)\n",
    "\n",
    "# Show figure\n",
    "plt.show()"
   ]
  },
  {
   "cell_type": "markdown",
   "metadata": {},
   "source": [
    "### Data Correlation"
   ]
  },
  {
   "cell_type": "code",
   "execution_count": 138,
   "metadata": {},
   "outputs": [
    {
     "data": {
      "image/png": "[encoded data removed]",
      "text/plain": [
       "<Figure size 2000x1000 with 2 Axes>"
      ]
     },
     "metadata": {},
     "output_type": "display_data"
    }
   ],
   "source": [
    "# Create correlation heatmap\n",
    "corr_matrix = df.corr()\n",
    "plt.figure(figsize=(20, 10))\n",
    "sns.heatmap(corr_matrix, annot=True, cmap='coolwarm', fmt=\".2f\")\n",
    "plt.title('Data Correlation Heatmap', fontsize=18)\n",
    "plt.show()"
   ]
  },
  {
   "cell_type": "markdown",
   "metadata": {},
   "source": [
    "Berdasarkan heatmap diatas, dapat diketahui bahwa korelasi antar data dalam dataset ini sangatlah kecil. Menurut saya, hal ini menandakan bahwa data yang ada kurang memuaskan karena jika dianalisa lebih dalam maka seharusnya karakteristik/parameter air seharusnya akan saling berkaitan, misalnya jika kandungan organic carbon dalam air meningkat maka biasanya tingkat pH air akan menurun (menjadi asam) serta secara tidak langsung akan menyebabkan air menjadi keruh atau sulit memencar cahaya (turbiditas menigkat)."
   ]
  },
  {
   "cell_type": "markdown",
   "metadata": {},
   "source": [
    "---"
   ]
  },
  {
   "cell_type": "markdown",
   "metadata": {},
   "source": [
    "# Feature Engineering "
   ]
  },
  {
   "cell_type": "markdown",
   "metadata": {},
   "source": [
    "### Handling Missing Values"
   ]
  },
  {
   "cell_type": "code",
   "execution_count": 4,
   "metadata": {},
   "outputs": [
    {
     "name": "stdout",
     "output_type": "stream",
     "text": [
      "ph                 14.987790\n",
      "Hardness            0.000000\n",
      "Solids              0.000000\n",
      "Chloramines         0.000000\n",
      "Sulfate            23.840049\n",
      "Conductivity        0.000000\n",
      "Organic_carbon      0.000000\n",
      "Trihalomethanes     4.945055\n",
      "Turbidity           0.000000\n",
      "Potability          0.000000\n",
      "dtype: float64\n"
     ]
    }
   ],
   "source": [
    "# Missing values proportion\n",
    "miss_val_proportion = (df.isnull().sum() / len(df))*100\n",
    "print(miss_val_proportion)"
   ]
  },
  {
   "cell_type": "markdown",
   "metadata": {},
   "source": [
    "Dikarenakan jumlah/proporsi missing values yang cukup banyak, maka dapat dilakukan pengisian/imputasi nilai menggunakan mean atau median agar tidak banyak data yang terbuang."
   ]
  },
  {
   "cell_type": "code",
   "execution_count": 5,
   "metadata": {},
   "outputs": [
    {
     "data": {
      "text/html": [
       "<div>\n",
       "<style scoped>\n",
       "    .dataframe tbody tr th:only-of-type {\n",
       "        vertical-align: middle;\n",
       "    }\n",
       "\n",
       "    .dataframe tbody tr th {\n",
       "        vertical-align: top;\n",
       "    }\n",
       "\n",
       "    .dataframe thead th {\n",
       "        text-align: right;\n",
       "    }\n",
       "</style>\n",
       "<table border=\"1\" class=\"dataframe\">\n",
       "  <thead>\n",
       "    <tr style=\"text-align: right;\">\n",
       "      <th></th>\n",
       "      <th>ph</th>\n",
       "      <th>Hardness</th>\n",
       "      <th>Solids</th>\n",
       "      <th>Chloramines</th>\n",
       "      <th>Sulfate</th>\n",
       "      <th>Conductivity</th>\n",
       "      <th>Organic_carbon</th>\n",
       "      <th>Trihalomethanes</th>\n",
       "      <th>Turbidity</th>\n",
       "      <th>Potability</th>\n",
       "    </tr>\n",
       "  </thead>\n",
       "  <tbody>\n",
       "    <tr>\n",
       "      <th>count</th>\n",
       "      <td>1684.000000</td>\n",
       "      <td>1998.000000</td>\n",
       "      <td>1998.000000</td>\n",
       "      <td>1998.000000</td>\n",
       "      <td>1510.000000</td>\n",
       "      <td>1998.000000</td>\n",
       "      <td>1998.000000</td>\n",
       "      <td>1891.000000</td>\n",
       "      <td>1998.000000</td>\n",
       "      <td>1998.0</td>\n",
       "    </tr>\n",
       "    <tr>\n",
       "      <th>mean</th>\n",
       "      <td>7.085378</td>\n",
       "      <td>196.733292</td>\n",
       "      <td>21777.490788</td>\n",
       "      <td>7.092175</td>\n",
       "      <td>334.564290</td>\n",
       "      <td>426.730454</td>\n",
       "      <td>14.364335</td>\n",
       "      <td>66.303555</td>\n",
       "      <td>3.965800</td>\n",
       "      <td>0.0</td>\n",
       "    </tr>\n",
       "    <tr>\n",
       "      <th>std</th>\n",
       "      <td>1.683499</td>\n",
       "      <td>31.057540</td>\n",
       "      <td>8543.068788</td>\n",
       "      <td>1.501045</td>\n",
       "      <td>36.745549</td>\n",
       "      <td>80.047317</td>\n",
       "      <td>3.334554</td>\n",
       "      <td>16.079320</td>\n",
       "      <td>0.780282</td>\n",
       "      <td>0.0</td>\n",
       "    </tr>\n",
       "    <tr>\n",
       "      <th>min</th>\n",
       "      <td>0.000000</td>\n",
       "      <td>98.452931</td>\n",
       "      <td>320.942611</td>\n",
       "      <td>1.683993</td>\n",
       "      <td>203.444521</td>\n",
       "      <td>181.483754</td>\n",
       "      <td>4.371899</td>\n",
       "      <td>0.738000</td>\n",
       "      <td>1.450000</td>\n",
       "      <td>0.0</td>\n",
       "    </tr>\n",
       "    <tr>\n",
       "      <th>25%</th>\n",
       "      <td>6.037723</td>\n",
       "      <td>177.823265</td>\n",
       "      <td>15663.057382</td>\n",
       "      <td>6.155640</td>\n",
       "      <td>311.264006</td>\n",
       "      <td>368.498530</td>\n",
       "      <td>12.101057</td>\n",
       "      <td>55.706530</td>\n",
       "      <td>3.444062</td>\n",
       "      <td>0.0</td>\n",
       "    </tr>\n",
       "    <tr>\n",
       "      <th>50%</th>\n",
       "      <td>7.035456</td>\n",
       "      <td>197.123423</td>\n",
       "      <td>20809.618280</td>\n",
       "      <td>7.090334</td>\n",
       "      <td>333.389426</td>\n",
       "      <td>422.229331</td>\n",
       "      <td>14.293508</td>\n",
       "      <td>66.542198</td>\n",
       "      <td>3.948076</td>\n",
       "      <td>0.0</td>\n",
       "    </tr>\n",
       "    <tr>\n",
       "      <th>75%</th>\n",
       "      <td>8.155510</td>\n",
       "      <td>216.120687</td>\n",
       "      <td>27006.249009</td>\n",
       "      <td>8.066462</td>\n",
       "      <td>356.853897</td>\n",
       "      <td>480.677198</td>\n",
       "      <td>16.649485</td>\n",
       "      <td>77.277704</td>\n",
       "      <td>4.496106</td>\n",
       "      <td>0.0</td>\n",
       "    </tr>\n",
       "    <tr>\n",
       "      <th>max</th>\n",
       "      <td>14.000000</td>\n",
       "      <td>304.235912</td>\n",
       "      <td>61227.196008</td>\n",
       "      <td>12.653362</td>\n",
       "      <td>460.107069</td>\n",
       "      <td>753.342620</td>\n",
       "      <td>28.300000</td>\n",
       "      <td>120.030077</td>\n",
       "      <td>6.739000</td>\n",
       "      <td>0.0</td>\n",
       "    </tr>\n",
       "  </tbody>\n",
       "</table>\n",
       "</div>"
      ],
      "text/plain": [
       "                ph     Hardness        Solids  Chloramines      Sulfate  \\\n",
       "count  1684.000000  1998.000000   1998.000000  1998.000000  1510.000000   \n",
       "mean      7.085378   196.733292  21777.490788     7.092175   334.564290   \n",
       "std       1.683499    31.057540   8543.068788     1.501045    36.745549   \n",
       "min       0.000000    98.452931    320.942611     1.683993   203.444521   \n",
       "25%       6.037723   177.823265  15663.057382     6.155640   311.264006   \n",
       "50%       7.035456   197.123423  20809.618280     7.090334   333.389426   \n",
       "75%       8.155510   216.120687  27006.249009     8.066462   356.853897   \n",
       "max      14.000000   304.235912  61227.196008    12.653362   460.107069   \n",
       "\n",
       "       Conductivity  Organic_carbon  Trihalomethanes    Turbidity  Potability  \n",
       "count   1998.000000     1998.000000      1891.000000  1998.000000      1998.0  \n",
       "mean     426.730454       14.364335        66.303555     3.965800         0.0  \n",
       "std       80.047317        3.334554        16.079320     0.780282         0.0  \n",
       "min      181.483754        4.371899         0.738000     1.450000         0.0  \n",
       "25%      368.498530       12.101057        55.706530     3.444062         0.0  \n",
       "50%      422.229331       14.293508        66.542198     3.948076         0.0  \n",
       "75%      480.677198       16.649485        77.277704     4.496106         0.0  \n",
       "max      753.342620       28.300000       120.030077     6.739000         0.0  "
      ]
     },
     "execution_count": 5,
     "metadata": {},
     "output_type": "execute_result"
    }
   ],
   "source": [
    "# Data describe untuk data Non-Potability\n",
    "df[df['Potability'] == 0].describe()"
   ]
  },
  {
   "cell_type": "code",
   "execution_count": 6,
   "metadata": {},
   "outputs": [
    {
     "data": {
      "text/html": [
       "<div>\n",
       "<style scoped>\n",
       "    .dataframe tbody tr th:only-of-type {\n",
       "        vertical-align: middle;\n",
       "    }\n",
       "\n",
       "    .dataframe tbody tr th {\n",
       "        vertical-align: top;\n",
       "    }\n",
       "\n",
       "    .dataframe thead th {\n",
       "        text-align: right;\n",
       "    }\n",
       "</style>\n",
       "<table border=\"1\" class=\"dataframe\">\n",
       "  <thead>\n",
       "    <tr style=\"text-align: right;\">\n",
       "      <th></th>\n",
       "      <th>ph</th>\n",
       "      <th>Hardness</th>\n",
       "      <th>Solids</th>\n",
       "      <th>Chloramines</th>\n",
       "      <th>Sulfate</th>\n",
       "      <th>Conductivity</th>\n",
       "      <th>Organic_carbon</th>\n",
       "      <th>Trihalomethanes</th>\n",
       "      <th>Turbidity</th>\n",
       "      <th>Potability</th>\n",
       "    </tr>\n",
       "  </thead>\n",
       "  <tbody>\n",
       "    <tr>\n",
       "      <th>count</th>\n",
       "      <td>1101.000000</td>\n",
       "      <td>1278.000000</td>\n",
       "      <td>1278.000000</td>\n",
       "      <td>1278.000000</td>\n",
       "      <td>985.000000</td>\n",
       "      <td>1278.000000</td>\n",
       "      <td>1278.000000</td>\n",
       "      <td>1223.000000</td>\n",
       "      <td>1278.000000</td>\n",
       "      <td>1278.0</td>\n",
       "    </tr>\n",
       "    <tr>\n",
       "      <th>mean</th>\n",
       "      <td>7.073783</td>\n",
       "      <td>195.800744</td>\n",
       "      <td>22383.991018</td>\n",
       "      <td>7.169338</td>\n",
       "      <td>332.566990</td>\n",
       "      <td>425.383800</td>\n",
       "      <td>14.160893</td>\n",
       "      <td>66.539684</td>\n",
       "      <td>3.968328</td>\n",
       "      <td>1.0</td>\n",
       "    </tr>\n",
       "    <tr>\n",
       "      <th>std</th>\n",
       "      <td>1.448048</td>\n",
       "      <td>35.547041</td>\n",
       "      <td>9101.010208</td>\n",
       "      <td>1.702988</td>\n",
       "      <td>47.692818</td>\n",
       "      <td>82.048446</td>\n",
       "      <td>3.263907</td>\n",
       "      <td>16.327419</td>\n",
       "      <td>0.780842</td>\n",
       "      <td>0.0</td>\n",
       "    </tr>\n",
       "    <tr>\n",
       "      <th>min</th>\n",
       "      <td>0.227499</td>\n",
       "      <td>47.432000</td>\n",
       "      <td>728.750830</td>\n",
       "      <td>0.352000</td>\n",
       "      <td>129.000000</td>\n",
       "      <td>201.619737</td>\n",
       "      <td>2.200000</td>\n",
       "      <td>8.175876</td>\n",
       "      <td>1.492207</td>\n",
       "      <td>1.0</td>\n",
       "    </tr>\n",
       "    <tr>\n",
       "      <th>25%</th>\n",
       "      <td>6.179312</td>\n",
       "      <td>174.330531</td>\n",
       "      <td>15668.985035</td>\n",
       "      <td>6.094134</td>\n",
       "      <td>300.763772</td>\n",
       "      <td>360.939023</td>\n",
       "      <td>12.033897</td>\n",
       "      <td>56.014249</td>\n",
       "      <td>3.430909</td>\n",
       "      <td>1.0</td>\n",
       "    </tr>\n",
       "    <tr>\n",
       "      <th>50%</th>\n",
       "      <td>7.036752</td>\n",
       "      <td>196.632907</td>\n",
       "      <td>21199.386614</td>\n",
       "      <td>7.215163</td>\n",
       "      <td>331.838167</td>\n",
       "      <td>420.712729</td>\n",
       "      <td>14.162809</td>\n",
       "      <td>66.678214</td>\n",
       "      <td>3.958576</td>\n",
       "      <td>1.0</td>\n",
       "    </tr>\n",
       "    <tr>\n",
       "      <th>75%</th>\n",
       "      <td>7.933068</td>\n",
       "      <td>218.003420</td>\n",
       "      <td>27973.236446</td>\n",
       "      <td>8.199261</td>\n",
       "      <td>365.941346</td>\n",
       "      <td>484.155911</td>\n",
       "      <td>16.356245</td>\n",
       "      <td>77.380975</td>\n",
       "      <td>4.509569</td>\n",
       "      <td>1.0</td>\n",
       "    </tr>\n",
       "    <tr>\n",
       "      <th>max</th>\n",
       "      <td>13.175402</td>\n",
       "      <td>323.124000</td>\n",
       "      <td>56488.672413</td>\n",
       "      <td>13.127000</td>\n",
       "      <td>481.030642</td>\n",
       "      <td>695.369528</td>\n",
       "      <td>23.604298</td>\n",
       "      <td>124.000000</td>\n",
       "      <td>6.494249</td>\n",
       "      <td>1.0</td>\n",
       "    </tr>\n",
       "  </tbody>\n",
       "</table>\n",
       "</div>"
      ],
      "text/plain": [
       "                ph     Hardness        Solids  Chloramines     Sulfate  \\\n",
       "count  1101.000000  1278.000000   1278.000000  1278.000000  985.000000   \n",
       "mean      7.073783   195.800744  22383.991018     7.169338  332.566990   \n",
       "std       1.448048    35.547041   9101.010208     1.702988   47.692818   \n",
       "min       0.227499    47.432000    728.750830     0.352000  129.000000   \n",
       "25%       6.179312   174.330531  15668.985035     6.094134  300.763772   \n",
       "50%       7.036752   196.632907  21199.386614     7.215163  331.838167   \n",
       "75%       7.933068   218.003420  27973.236446     8.199261  365.941346   \n",
       "max      13.175402   323.124000  56488.672413    13.127000  481.030642   \n",
       "\n",
       "       Conductivity  Organic_carbon  Trihalomethanes    Turbidity  Potability  \n",
       "count   1278.000000     1278.000000      1223.000000  1278.000000      1278.0  \n",
       "mean     425.383800       14.160893        66.539684     3.968328         1.0  \n",
       "std       82.048446        3.263907        16.327419     0.780842         0.0  \n",
       "min      201.619737        2.200000         8.175876     1.492207         1.0  \n",
       "25%      360.939023       12.033897        56.014249     3.430909         1.0  \n",
       "50%      420.712729       14.162809        66.678214     3.958576         1.0  \n",
       "75%      484.155911       16.356245        77.380975     4.509569         1.0  \n",
       "max      695.369528       23.604298       124.000000     6.494249         1.0  "
      ]
     },
     "execution_count": 6,
     "metadata": {},
     "output_type": "execute_result"
    }
   ],
   "source": [
    "# Data describe untuk data Non-Potability\n",
    "df[df['Potability'] == 1].describe()"
   ]
  },
  {
   "cell_type": "markdown",
   "metadata": {},
   "source": [
    "Berdasarkan data describe dari kedua kategori potability, diasumsikan bahwa data cukup terdistribusi normal karena nilai standar deviasinya yang cukup rendah, namun untuk menghindari adanya pergeseran central tendency dan pengaruh outliers maka diputuskan untuk menggunakan median sebagai imputasi."
   ]
  },
  {
   "cell_type": "code",
   "execution_count": 7,
   "metadata": {},
   "outputs": [
    {
     "data": {
      "text/html": [
       "<div>\n",
       "<style scoped>\n",
       "    .dataframe tbody tr th:only-of-type {\n",
       "        vertical-align: middle;\n",
       "    }\n",
       "\n",
       "    .dataframe tbody tr th {\n",
       "        vertical-align: top;\n",
       "    }\n",
       "\n",
       "    .dataframe thead th {\n",
       "        text-align: right;\n",
       "    }\n",
       "</style>\n",
       "<table border=\"1\" class=\"dataframe\">\n",
       "  <thead>\n",
       "    <tr style=\"text-align: right;\">\n",
       "      <th></th>\n",
       "      <th>ph</th>\n",
       "      <th>Sulfate</th>\n",
       "      <th>Trihalomethanes</th>\n",
       "    </tr>\n",
       "    <tr>\n",
       "      <th>Potability</th>\n",
       "      <th></th>\n",
       "      <th></th>\n",
       "      <th></th>\n",
       "    </tr>\n",
       "  </thead>\n",
       "  <tbody>\n",
       "    <tr>\n",
       "      <th>0</th>\n",
       "      <td>7.035456</td>\n",
       "      <td>333.389426</td>\n",
       "      <td>66.542198</td>\n",
       "    </tr>\n",
       "    <tr>\n",
       "      <th>1</th>\n",
       "      <td>7.036752</td>\n",
       "      <td>331.838167</td>\n",
       "      <td>66.678214</td>\n",
       "    </tr>\n",
       "  </tbody>\n",
       "</table>\n",
       "</div>"
      ],
      "text/plain": [
       "                  ph     Sulfate  Trihalomethanes\n",
       "Potability                                       \n",
       "0           7.035456  333.389426        66.542198\n",
       "1           7.036752  331.838167        66.678214"
      ]
     },
     "execution_count": 7,
     "metadata": {},
     "output_type": "execute_result"
    }
   ],
   "source": [
    "# Median dictionary\n",
    "median_non_potability = df[df['Potability'] == 0][['ph','Sulfate','Trihalomethanes']].median().to_dict()\n",
    "median_potability = df[df['Potability'] == 1][['ph','Sulfate','Trihalomethanes']].median().to_dict()\n",
    "\n",
    "# Convert median dictionaries to dataFrame\n",
    "median_0 = pd.DataFrame([median_non_potability.values()], columns=median_non_potability.keys())\n",
    "median_1 = pd.DataFrame([median_potability.values()], columns=median_potability.keys())\n",
    "\n",
    "# Merge dataframe\n",
    "merge_median = pd.concat([median_0, median_1], ignore_index=True)\n",
    "merge_median['Potability'] = ['0', '1']\n",
    "merge_median.set_index(['Potability'])"
   ]
  },
  {
   "cell_type": "markdown",
   "metadata": {},
   "source": [
    "Berdasarkan perbandigan antara median untuk data non-potable dan potable, dapat terlihat bahwa perbedaan diantara keduanya cukup kecil sehingga dapat menggunakan median keseluruhan data sebagai imputasi untuk missing values."
   ]
  },
  {
   "cell_type": "code",
   "execution_count": 8,
   "metadata": {},
   "outputs": [
    {
     "name": "stderr",
     "output_type": "stream",
     "text": [
      "C:\\Users\\user\\AppData\\Local\\Temp\\ipykernel_12292\\1318433361.py:2: FutureWarning: A value is trying to be set on a copy of a DataFrame or Series through chained assignment using an inplace method.\n",
      "The behavior will change in pandas 3.0. This inplace method will never work because the intermediate object on which we are setting values always behaves as a copy.\n",
      "\n",
      "For example, when doing 'df[col].method(value, inplace=True)', try using 'df.method({col: value}, inplace=True)' or df[col] = df[col].method(value) instead, to perform the operation inplace on the original object.\n",
      "\n",
      "\n",
      "  df['ph'].fillna(value=df['ph'].median(),inplace=True)\n",
      "C:\\Users\\user\\AppData\\Local\\Temp\\ipykernel_12292\\1318433361.py:3: FutureWarning: A value is trying to be set on a copy of a DataFrame or Series through chained assignment using an inplace method.\n",
      "The behavior will change in pandas 3.0. This inplace method will never work because the intermediate object on which we are setting values always behaves as a copy.\n",
      "\n",
      "For example, when doing 'df[col].method(value, inplace=True)', try using 'df.method({col: value}, inplace=True)' or df[col] = df[col].method(value) instead, to perform the operation inplace on the original object.\n",
      "\n",
      "\n",
      "  df['Sulfate'].fillna(value=df['Sulfate'].median(),inplace=True)\n",
      "C:\\Users\\user\\AppData\\Local\\Temp\\ipykernel_12292\\1318433361.py:4: FutureWarning: A value is trying to be set on a copy of a DataFrame or Series through chained assignment using an inplace method.\n",
      "The behavior will change in pandas 3.0. This inplace method will never work because the intermediate object on which we are setting values always behaves as a copy.\n",
      "\n",
      "For example, when doing 'df[col].method(value, inplace=True)', try using 'df.method({col: value}, inplace=True)' or df[col] = df[col].method(value) instead, to perform the operation inplace on the original object.\n",
      "\n",
      "\n",
      "  df['Trihalomethanes'].fillna(value=df['Trihalomethanes'].median(),inplace=True)\n"
     ]
    }
   ],
   "source": [
    "# Generate median sebagai imputation\n",
    "df['ph'].fillna(value=df['ph'].median(),inplace=True)\n",
    "df['Sulfate'].fillna(value=df['Sulfate'].median(),inplace=True)\n",
    "df['Trihalomethanes'].fillna(value=df['Trihalomethanes'].median(),inplace=True)"
   ]
  },
  {
   "cell_type": "code",
   "execution_count": 9,
   "metadata": {},
   "outputs": [
    {
     "data": {
      "text/plain": [
       "ph                 0\n",
       "Hardness           0\n",
       "Solids             0\n",
       "Chloramines        0\n",
       "Sulfate            0\n",
       "Conductivity       0\n",
       "Organic_carbon     0\n",
       "Trihalomethanes    0\n",
       "Turbidity          0\n",
       "Potability         0\n",
       "dtype: int64"
      ]
     },
     "execution_count": 9,
     "metadata": {},
     "output_type": "execute_result"
    }
   ],
   "source": [
    "# Cek missing values\n",
    "df.isnull().sum()"
   ]
  },
  {
   "cell_type": "markdown",
   "metadata": {},
   "source": [
    "### Splitting X (Features) & Y (Target)"
   ]
  },
  {
   "cell_type": "code",
   "execution_count": 10,
   "metadata": {},
   "outputs": [
    {
     "data": {
      "text/html": [
       "<div>\n",
       "<style scoped>\n",
       "    .dataframe tbody tr th:only-of-type {\n",
       "        vertical-align: middle;\n",
       "    }\n",
       "\n",
       "    .dataframe tbody tr th {\n",
       "        vertical-align: top;\n",
       "    }\n",
       "\n",
       "    .dataframe thead th {\n",
       "        text-align: right;\n",
       "    }\n",
       "</style>\n",
       "<table border=\"1\" class=\"dataframe\">\n",
       "  <thead>\n",
       "    <tr style=\"text-align: right;\">\n",
       "      <th></th>\n",
       "      <th>ph</th>\n",
       "      <th>Hardness</th>\n",
       "      <th>Solids</th>\n",
       "      <th>Chloramines</th>\n",
       "      <th>Sulfate</th>\n",
       "      <th>Conductivity</th>\n",
       "      <th>Organic_carbon</th>\n",
       "      <th>Trihalomethanes</th>\n",
       "      <th>Turbidity</th>\n",
       "    </tr>\n",
       "  </thead>\n",
       "  <tbody>\n",
       "    <tr>\n",
       "      <th>0</th>\n",
       "      <td>7.036752</td>\n",
       "      <td>204.890455</td>\n",
       "      <td>20791.318981</td>\n",
       "      <td>7.300212</td>\n",
       "      <td>368.516441</td>\n",
       "      <td>564.308654</td>\n",
       "      <td>10.379783</td>\n",
       "      <td>86.990970</td>\n",
       "      <td>2.963135</td>\n",
       "    </tr>\n",
       "    <tr>\n",
       "      <th>1</th>\n",
       "      <td>3.716080</td>\n",
       "      <td>129.422921</td>\n",
       "      <td>18630.057858</td>\n",
       "      <td>6.635246</td>\n",
       "      <td>333.073546</td>\n",
       "      <td>592.885359</td>\n",
       "      <td>15.180013</td>\n",
       "      <td>56.329076</td>\n",
       "      <td>4.500656</td>\n",
       "    </tr>\n",
       "    <tr>\n",
       "      <th>2</th>\n",
       "      <td>8.099124</td>\n",
       "      <td>224.236259</td>\n",
       "      <td>19909.541732</td>\n",
       "      <td>9.275884</td>\n",
       "      <td>333.073546</td>\n",
       "      <td>418.606213</td>\n",
       "      <td>16.868637</td>\n",
       "      <td>66.420093</td>\n",
       "      <td>3.055934</td>\n",
       "    </tr>\n",
       "    <tr>\n",
       "      <th>3</th>\n",
       "      <td>8.316766</td>\n",
       "      <td>214.373394</td>\n",
       "      <td>22018.417441</td>\n",
       "      <td>8.059332</td>\n",
       "      <td>356.886136</td>\n",
       "      <td>363.266516</td>\n",
       "      <td>18.436524</td>\n",
       "      <td>100.341674</td>\n",
       "      <td>4.628771</td>\n",
       "    </tr>\n",
       "    <tr>\n",
       "      <th>4</th>\n",
       "      <td>9.092223</td>\n",
       "      <td>181.101509</td>\n",
       "      <td>17978.986339</td>\n",
       "      <td>6.546600</td>\n",
       "      <td>310.135738</td>\n",
       "      <td>398.410813</td>\n",
       "      <td>11.558279</td>\n",
       "      <td>31.997993</td>\n",
       "      <td>4.075075</td>\n",
       "    </tr>\n",
       "  </tbody>\n",
       "</table>\n",
       "</div>"
      ],
      "text/plain": [
       "         ph    Hardness        Solids  Chloramines     Sulfate  Conductivity  \\\n",
       "0  7.036752  204.890455  20791.318981     7.300212  368.516441    564.308654   \n",
       "1  3.716080  129.422921  18630.057858     6.635246  333.073546    592.885359   \n",
       "2  8.099124  224.236259  19909.541732     9.275884  333.073546    418.606213   \n",
       "3  8.316766  214.373394  22018.417441     8.059332  356.886136    363.266516   \n",
       "4  9.092223  181.101509  17978.986339     6.546600  310.135738    398.410813   \n",
       "\n",
       "   Organic_carbon  Trihalomethanes  Turbidity  \n",
       "0       10.379783        86.990970   2.963135  \n",
       "1       15.180013        56.329076   4.500656  \n",
       "2       16.868637        66.420093   3.055934  \n",
       "3       18.436524       100.341674   4.628771  \n",
       "4       11.558279        31.997993   4.075075  "
      ]
     },
     "execution_count": 10,
     "metadata": {},
     "output_type": "execute_result"
    }
   ],
   "source": [
    "# Memisah X dan Y\n",
    "X = df.drop(['Potability'], axis=1)\n",
    "y = df['Potability']\n",
    "X.head()"
   ]
  },
  {
   "cell_type": "markdown",
   "metadata": {},
   "source": [
    "### Splitting Training & Test"
   ]
  },
  {
   "cell_type": "code",
   "execution_count": 11,
   "metadata": {},
   "outputs": [
    {
     "name": "stdout",
     "output_type": "stream",
     "text": [
      "Train Size:  (2457, 9)\n",
      "Test Size:  (819, 9)\n"
     ]
    }
   ],
   "source": [
    "# Memisah train-set dan test-set\n",
    "X_train, X_test, y_train, y_test = train_test_split(X, y, test_size = 0.25, random_state = 42)\n",
    "print('Train Size: ', X_train.shape)\n",
    "print('Test Size: ', X_test.shape)"
   ]
  },
  {
   "cell_type": "markdown",
   "metadata": {},
   "source": [
    "### Handling Outliers - Train Set"
   ]
  },
  {
   "cell_type": "code",
   "execution_count": 12,
   "metadata": {},
   "outputs": [
    {
     "data": {
      "text/html": [
       "<div>\n",
       "<style scoped>\n",
       "    .dataframe tbody tr th:only-of-type {\n",
       "        vertical-align: middle;\n",
       "    }\n",
       "\n",
       "    .dataframe tbody tr th {\n",
       "        vertical-align: top;\n",
       "    }\n",
       "\n",
       "    .dataframe thead th {\n",
       "        text-align: right;\n",
       "    }\n",
       "</style>\n",
       "<table border=\"1\" class=\"dataframe\">\n",
       "  <thead>\n",
       "    <tr style=\"text-align: right;\">\n",
       "      <th></th>\n",
       "      <th>nama_kolom</th>\n",
       "      <th>nilai_skewness</th>\n",
       "    </tr>\n",
       "  </thead>\n",
       "  <tbody>\n",
       "    <tr>\n",
       "      <th>0</th>\n",
       "      <td>ph</td>\n",
       "      <td>0.046936</td>\n",
       "    </tr>\n",
       "    <tr>\n",
       "      <th>1</th>\n",
       "      <td>Hardness</td>\n",
       "      <td>-0.029208</td>\n",
       "    </tr>\n",
       "    <tr>\n",
       "      <th>2</th>\n",
       "      <td>Solids</td>\n",
       "      <td>0.663432</td>\n",
       "    </tr>\n",
       "    <tr>\n",
       "      <th>3</th>\n",
       "      <td>Chloramines</td>\n",
       "      <td>-0.039178</td>\n",
       "    </tr>\n",
       "    <tr>\n",
       "      <th>4</th>\n",
       "      <td>Sulfate</td>\n",
       "      <td>-0.024358</td>\n",
       "    </tr>\n",
       "    <tr>\n",
       "      <th>5</th>\n",
       "      <td>Conductivity</td>\n",
       "      <td>0.281756</td>\n",
       "    </tr>\n",
       "    <tr>\n",
       "      <th>6</th>\n",
       "      <td>Organic_carbon</td>\n",
       "      <td>0.018261</td>\n",
       "    </tr>\n",
       "    <tr>\n",
       "      <th>7</th>\n",
       "      <td>Trihalomethanes</td>\n",
       "      <td>-0.107771</td>\n",
       "    </tr>\n",
       "    <tr>\n",
       "      <th>8</th>\n",
       "      <td>Turbidity</td>\n",
       "      <td>-0.010875</td>\n",
       "    </tr>\n",
       "  </tbody>\n",
       "</table>\n",
       "</div>"
      ],
      "text/plain": [
       "        nama_kolom  nilai_skewness\n",
       "0               ph        0.046936\n",
       "1         Hardness       -0.029208\n",
       "2           Solids        0.663432\n",
       "3      Chloramines       -0.039178\n",
       "4          Sulfate       -0.024358\n",
       "5     Conductivity        0.281756\n",
       "6   Organic_carbon        0.018261\n",
       "7  Trihalomethanes       -0.107771\n",
       "8        Turbidity       -0.010875"
      ]
     },
     "execution_count": 12,
     "metadata": {},
     "output_type": "execute_result"
    }
   ],
   "source": [
    "# List nama features\n",
    "feature_list = X_train.columns\n",
    "\n",
    "# Menghitung nilai skewness tiap features\n",
    "item = []\n",
    "for col in feature_list:\n",
    "  item.append([col, X_train[col].skew()])\n",
    "\n",
    "feature_skew = pd.DataFrame(columns=['nama_kolom', 'nilai_skewness'], data= item)\n",
    "feature_skew"
   ]
  },
  {
   "cell_type": "markdown",
   "metadata": {},
   "source": [
    "Berdasarkan uji normalitas menggunakan nilai skewness, dapat diasumsikan bahwa features pada Train Set berdistribusi normal sehingga dapat dilakukan penetapan upper & lower boundary untuk deteksi persentasi outliers menggunakan Z-Score."
   ]
  },
  {
   "cell_type": "code",
   "execution_count": 13,
   "metadata": {},
   "outputs": [
    {
     "name": "stdout",
     "output_type": "stream",
     "text": [
      "Column ph outliers = 0.85%\n",
      "Column Hardness outliers = 0.45%\n",
      "Column Solids outliers = 0.61%\n",
      "Column Chloramines outliers = 0.49%\n",
      "Column Sulfate outliers = 1.02%\n",
      "Column Conductivity outliers = 0.24%\n",
      "Column Organic_carbon outliers = 0.12%\n",
      "Column Trihalomethanes outliers = 0.57%\n",
      "Column Turbidity outliers = 0.20%\n"
     ]
    }
   ],
   "source": [
    "# Deteksi persentasi outliers\n",
    "num_train_feature = X_train._get_numeric_data()\n",
    "for k, v in num_train_feature.items():\n",
    "  mean = v.mean()\n",
    "  std = v.std()\n",
    "  v_col = v[(v <= mean - 3 * std) | (v >= mean + 3 * std)]\n",
    "  perc = np.shape(v_col)[0] * 100.0 / np.shape(num_train_feature)[0]\n",
    "  print(\"Column %s outliers = %.2f%%\" % (k, perc))"
   ]
  },
  {
   "cell_type": "markdown",
   "metadata": {},
   "source": [
    "Dilakukan handling menggunakan winsorization dengan capping method gaussian."
   ]
  },
  {
   "cell_type": "code",
   "execution_count": 14,
   "metadata": {},
   "outputs": [],
   "source": [
    "# Capping data outliers in Train Set\n",
    "winsorizer = Winsorizer(capping_method='gaussian',\n",
    "                            tail='both',\n",
    "                            fold=2,\n",
    "                            variables=['ph', 'Hardness', 'Solids', 'Chloramines', 'Sulfate', 'Conductivity',\n",
    "                                       'Organic_carbon', 'Trihalomethanes', 'Turbidity'],\n",
    "                            missing_values='ignore')\n",
    "\n",
    "X_train = winsorizer.fit_transform(X_train)"
   ]
  },
  {
   "cell_type": "markdown",
   "metadata": {},
   "source": [
    "### Handling Outliers - Test Set"
   ]
  },
  {
   "cell_type": "code",
   "execution_count": 15,
   "metadata": {},
   "outputs": [
    {
     "data": {
      "text/html": [
       "<div>\n",
       "<style scoped>\n",
       "    .dataframe tbody tr th:only-of-type {\n",
       "        vertical-align: middle;\n",
       "    }\n",
       "\n",
       "    .dataframe tbody tr th {\n",
       "        vertical-align: top;\n",
       "    }\n",
       "\n",
       "    .dataframe thead th {\n",
       "        text-align: right;\n",
       "    }\n",
       "</style>\n",
       "<table border=\"1\" class=\"dataframe\">\n",
       "  <thead>\n",
       "    <tr style=\"text-align: right;\">\n",
       "      <th></th>\n",
       "      <th>nama_kolom</th>\n",
       "      <th>nilai_skewness</th>\n",
       "    </tr>\n",
       "  </thead>\n",
       "  <tbody>\n",
       "    <tr>\n",
       "      <th>0</th>\n",
       "      <td>ph</td>\n",
       "      <td>0.028234</td>\n",
       "    </tr>\n",
       "    <tr>\n",
       "      <th>1</th>\n",
       "      <td>Hardness</td>\n",
       "      <td>-0.068835</td>\n",
       "    </tr>\n",
       "    <tr>\n",
       "      <th>2</th>\n",
       "      <td>Solids</td>\n",
       "      <td>0.474810</td>\n",
       "    </tr>\n",
       "    <tr>\n",
       "      <th>3</th>\n",
       "      <td>Chloramines</td>\n",
       "      <td>0.061423</td>\n",
       "    </tr>\n",
       "    <tr>\n",
       "      <th>4</th>\n",
       "      <td>Sulfate</td>\n",
       "      <td>-0.034954</td>\n",
       "    </tr>\n",
       "    <tr>\n",
       "      <th>5</th>\n",
       "      <td>Conductivity</td>\n",
       "      <td>0.203373</td>\n",
       "    </tr>\n",
       "    <tr>\n",
       "      <th>6</th>\n",
       "      <td>Organic_carbon</td>\n",
       "      <td>0.041997</td>\n",
       "    </tr>\n",
       "    <tr>\n",
       "      <th>7</th>\n",
       "      <td>Trihalomethanes</td>\n",
       "      <td>-0.022025</td>\n",
       "    </tr>\n",
       "    <tr>\n",
       "      <th>8</th>\n",
       "      <td>Turbidity</td>\n",
       "      <td>-0.005182</td>\n",
       "    </tr>\n",
       "  </tbody>\n",
       "</table>\n",
       "</div>"
      ],
      "text/plain": [
       "        nama_kolom  nilai_skewness\n",
       "0               ph        0.028234\n",
       "1         Hardness       -0.068835\n",
       "2           Solids        0.474810\n",
       "3      Chloramines        0.061423\n",
       "4          Sulfate       -0.034954\n",
       "5     Conductivity        0.203373\n",
       "6   Organic_carbon        0.041997\n",
       "7  Trihalomethanes       -0.022025\n",
       "8        Turbidity       -0.005182"
      ]
     },
     "execution_count": 15,
     "metadata": {},
     "output_type": "execute_result"
    }
   ],
   "source": [
    "# List nama features\n",
    "feature_list = X_test.columns\n",
    "\n",
    "# Menghitung nilai skewness tiap features\n",
    "item = []\n",
    "for col in feature_list:\n",
    "  item.append([col, X_test[col].skew()])\n",
    "\n",
    "feature_skew = pd.DataFrame(columns=['nama_kolom', 'nilai_skewness'], data= item)\n",
    "feature_skew"
   ]
  },
  {
   "cell_type": "markdown",
   "metadata": {},
   "source": [
    "Berdasarkan uji normalitas menggunakan nilai skewness, dapat diasumsikan bahwa features pada Train Set berdistribusi normal sehingga dapat dilakukan penetapan upper & lower boundary untuk deteksi persentasi outliers menggunakan Z-Score."
   ]
  },
  {
   "cell_type": "code",
   "execution_count": 16,
   "metadata": {},
   "outputs": [
    {
     "name": "stdout",
     "output_type": "stream",
     "text": [
      "Column ph outliers = 0.85%\n",
      "Column Hardness outliers = 0.85%\n",
      "Column Solids outliers = 0.61%\n",
      "Column Chloramines outliers = 0.98%\n",
      "Column Sulfate outliers = 1.34%\n",
      "Column Conductivity outliers = 0.00%\n",
      "Column Organic_carbon outliers = 0.24%\n",
      "Column Trihalomethanes outliers = 0.61%\n",
      "Column Turbidity outliers = 0.24%\n"
     ]
    }
   ],
   "source": [
    "# Deteksi persentasi outliers\n",
    "num_test_feature = X_test._get_numeric_data()\n",
    "for k, v in num_test_feature.items():\n",
    "  mean = v.mean()\n",
    "  std = v.std()\n",
    "  v_col = v[(v <= mean - 3 * std) | (v >= mean + 3 * std)]\n",
    "  perc = np.shape(v_col)[0] * 100.0 / np.shape(num_test_feature)[0]\n",
    "  print(\"Column %s outliers = %.2f%%\" % (k, perc))"
   ]
  },
  {
   "cell_type": "markdown",
   "metadata": {},
   "source": [
    "Dilakukan handling menggunakan winsorization dengan capping method gaussian."
   ]
  },
  {
   "cell_type": "code",
   "execution_count": 17,
   "metadata": {},
   "outputs": [],
   "source": [
    "# Capping data outliers in Test Set\n",
    "X_test = winsorizer.transform(X_test)"
   ]
  },
  {
   "cell_type": "markdown",
   "metadata": {},
   "source": [
    "### Feature Selection"
   ]
  },
  {
   "cell_type": "code",
   "execution_count": 18,
   "metadata": {},
   "outputs": [
    {
     "data": {
      "text/html": [
       "<div>\n",
       "<style scoped>\n",
       "    .dataframe tbody tr th:only-of-type {\n",
       "        vertical-align: middle;\n",
       "    }\n",
       "\n",
       "    .dataframe tbody tr th {\n",
       "        vertical-align: top;\n",
       "    }\n",
       "\n",
       "    .dataframe thead th {\n",
       "        text-align: right;\n",
       "    }\n",
       "</style>\n",
       "<table border=\"1\" class=\"dataframe\">\n",
       "  <thead>\n",
       "    <tr style=\"text-align: right;\">\n",
       "      <th></th>\n",
       "      <th>nama_kolom</th>\n",
       "      <th>hasil</th>\n",
       "    </tr>\n",
       "  </thead>\n",
       "  <tbody>\n",
       "    <tr>\n",
       "      <th>0</th>\n",
       "      <td>ph</td>\n",
       "      <td>Terdapat Hubungan</td>\n",
       "    </tr>\n",
       "    <tr>\n",
       "      <th>1</th>\n",
       "      <td>Hardness</td>\n",
       "      <td>Terdapat Hubungan</td>\n",
       "    </tr>\n",
       "    <tr>\n",
       "      <th>2</th>\n",
       "      <td>Solids</td>\n",
       "      <td>Terdapat Hubungan</td>\n",
       "    </tr>\n",
       "    <tr>\n",
       "      <th>3</th>\n",
       "      <td>Chloramines</td>\n",
       "      <td>Terdapat Hubungan</td>\n",
       "    </tr>\n",
       "    <tr>\n",
       "      <th>4</th>\n",
       "      <td>Sulfate</td>\n",
       "      <td>Terdapat Hubungan</td>\n",
       "    </tr>\n",
       "    <tr>\n",
       "      <th>5</th>\n",
       "      <td>Conductivity</td>\n",
       "      <td>Terdapat Hubungan</td>\n",
       "    </tr>\n",
       "    <tr>\n",
       "      <th>6</th>\n",
       "      <td>Organic_carbon</td>\n",
       "      <td>Terdapat Hubungan</td>\n",
       "    </tr>\n",
       "    <tr>\n",
       "      <th>7</th>\n",
       "      <td>Trihalomethanes</td>\n",
       "      <td>Terdapat Hubungan</td>\n",
       "    </tr>\n",
       "    <tr>\n",
       "      <th>8</th>\n",
       "      <td>Turbidity</td>\n",
       "      <td>Terdapat Hubungan</td>\n",
       "    </tr>\n",
       "  </tbody>\n",
       "</table>\n",
       "</div>"
      ],
      "text/plain": [
       "        nama_kolom              hasil\n",
       "0               ph  Terdapat Hubungan\n",
       "1         Hardness  Terdapat Hubungan\n",
       "2           Solids  Terdapat Hubungan\n",
       "3      Chloramines  Terdapat Hubungan\n",
       "4          Sulfate  Terdapat Hubungan\n",
       "5     Conductivity  Terdapat Hubungan\n",
       "6   Organic_carbon  Terdapat Hubungan\n",
       "7  Trihalomethanes  Terdapat Hubungan\n",
       "8        Turbidity  Terdapat Hubungan"
      ]
     },
     "execution_count": 18,
     "metadata": {},
     "output_type": "execute_result"
    }
   ],
   "source": [
    "# Feature selection untuk fitur numerical\n",
    "p_values = []\n",
    "interpretasi = []\n",
    "cols = []\n",
    "\n",
    "for col in X_train.columns:\n",
    "  f_stat, p_value = f_oneway(X_train[col], y_train)\n",
    "\n",
    "  p_values.append(p_value)\n",
    "  cols.append(col)\n",
    "\n",
    "  if p_value < 0.05:\n",
    "    interpretasi.append('Terdapat Hubungan')\n",
    "  else :\n",
    "    interpretasi.append('Tidak Terdapat Hubungan')\n",
    "\n",
    "pd.DataFrame({'nama_kolom':cols,\n",
    "              'hasil': interpretasi})"
   ]
  },
  {
   "cell_type": "markdown",
   "metadata": {},
   "source": [
    "Seluruh features akan digunakan karena seluruhnya berhubungan dengan target."
   ]
  },
  {
   "cell_type": "markdown",
   "metadata": {},
   "source": [
    "### Feature Transformer"
   ]
  },
  {
   "cell_type": "code",
   "execution_count": 19,
   "metadata": {},
   "outputs": [],
   "source": [
    "#Making column transformer for preprocessing\n",
    "transformer = ColumnTransformer([('scaler', StandardScaler(), selector(dtype_exclude='object'))])"
   ]
  },
  {
   "cell_type": "markdown",
   "metadata": {},
   "source": [
    "---"
   ]
  },
  {
   "cell_type": "markdown",
   "metadata": {},
   "source": [
    "# Baseline Modelling"
   ]
  },
  {
   "cell_type": "markdown",
   "metadata": {},
   "source": [
    "### Pipeline"
   ]
  },
  {
   "cell_type": "code",
   "execution_count": 20,
   "metadata": {},
   "outputs": [],
   "source": [
    "#Making pipeline for KNN\n",
    "pipe_knn = Pipeline([\n",
    "('transformer', transformer),\n",
    "('classifier', KNeighborsClassifier())\n",
    "])\n",
    "\n",
    "#Making pipeline for SVM\n",
    "pipe_svm = Pipeline([\n",
    "('transformer', transformer),\n",
    "('classifier', SVC())\n",
    "])\n",
    "\n",
    "#Making pipeline for Decision Tree\n",
    "pipe_dt = Pipeline([\n",
    "('transformer', transformer),\n",
    "('classifier', DecisionTreeClassifier())\n",
    "])\n",
    "\n",
    "#Making pipeline for Random Forest\n",
    "pipe_rf = Pipeline([\n",
    "('transformer', transformer),\n",
    "('classifier', RandomForestClassifier())\n",
    "])\n",
    "\n",
    "#Making pipeline for XGBoost\n",
    "pipe_xgb = Pipeline([\n",
    "('transformer', transformer),\n",
    "('classifier', XGBClassifier())\n",
    "])"
   ]
  },
  {
   "cell_type": "markdown",
   "metadata": {},
   "source": [
    "### KNN - Classifier"
   ]
  },
  {
   "cell_type": "code",
   "execution_count": 21,
   "metadata": {},
   "outputs": [
    {
     "name": "stdout",
     "output_type": "stream",
     "text": [
      "Training Score:  0.7586\n",
      "Testing Score:  0.6227\n"
     ]
    }
   ],
   "source": [
    "# Model training - KNN\n",
    "pipe_knn.fit(X_train, y_train)\n",
    "print('Training Score: ',round(pipe_knn.score(X_train, y_train),4))\n",
    "print('Testing Score: ', round(pipe_knn.score(X_test, y_test),4))"
   ]
  },
  {
   "cell_type": "code",
   "execution_count": 22,
   "metadata": {},
   "outputs": [],
   "source": [
    "# Model prediction - KNN\n",
    "y_knn_pred = pipe_knn.predict(X_test)"
   ]
  },
  {
   "cell_type": "code",
   "execution_count": 23,
   "metadata": {},
   "outputs": [
    {
     "name": "stdout",
     "output_type": "stream",
     "text": [
      "              precision    recall  f1-score   support\n",
      "\n",
      " Non-Potable       0.67      0.76      0.72       510\n",
      "     Potable       0.50      0.39      0.44       309\n",
      "\n",
      "    accuracy                           0.62       819\n",
      "   macro avg       0.59      0.58      0.58       819\n",
      "weighted avg       0.61      0.62      0.61       819\n",
      "\n"
     ]
    }
   ],
   "source": [
    "# Classification report - SVM\n",
    "target = ['Non-Potable', 'Potable']\n",
    "print(classification_report(y_test, y_knn_pred, target_names = target))"
   ]
  },
  {
   "cell_type": "markdown",
   "metadata": {},
   "source": [
    "### SVM - Classifier"
   ]
  },
  {
   "cell_type": "code",
   "execution_count": 24,
   "metadata": {},
   "outputs": [
    {
     "name": "stdout",
     "output_type": "stream",
     "text": [
      "Training Score:  0.7281\n",
      "Testing Score:  0.6801\n"
     ]
    }
   ],
   "source": [
    "# Model training - SVM\n",
    "pipe_svm.fit(X_train, y_train)\n",
    "print('Training Score: ',round(pipe_svm.score(X_train, y_train),4))\n",
    "print('Testing Score: ', round(pipe_svm.score(X_test, y_test),4))"
   ]
  },
  {
   "cell_type": "code",
   "execution_count": 25,
   "metadata": {},
   "outputs": [],
   "source": [
    "# Model prediction - SVM\n",
    "y_svm_pred = pipe_svm.predict(X_test)"
   ]
  },
  {
   "cell_type": "code",
   "execution_count": 26,
   "metadata": {},
   "outputs": [
    {
     "name": "stdout",
     "output_type": "stream",
     "text": [
      "              precision    recall  f1-score   support\n",
      "\n",
      " Non-Potable       0.69      0.90      0.78       510\n",
      "     Potable       0.65      0.32      0.43       309\n",
      "\n",
      "    accuracy                           0.68       819\n",
      "   macro avg       0.67      0.61      0.61       819\n",
      "weighted avg       0.67      0.68      0.65       819\n",
      "\n"
     ]
    }
   ],
   "source": [
    "# Classification report - SVM\n",
    "target = ['Non-Potable', 'Potable']\n",
    "print(classification_report(y_test, y_svm_pred, target_names = target))"
   ]
  },
  {
   "cell_type": "code",
   "execution_count": 27,
   "metadata": {},
   "outputs": [
    {
     "name": "stdout",
     "output_type": "stream",
     "text": [
      "F1 Score - All - Cross Validation  :  [0.42825607 0.40598291 0.42398287]\n",
      "F1 Score - Mean - Cross Validation :  0.41940728200069916\n",
      "F1 Score - Std - Cross Validation  :  0.009651440854605578\n",
      "F1 Score - Range of Test-Set       :  0.4097558411460936 - 0.4290587228553047\n"
     ]
    }
   ],
   "source": [
    "# Cross Validation - SVM\n",
    "\n",
    "f1_train_cross_val = cross_val_score(pipe_svm,\n",
    "                                     X_train,\n",
    "                                     y_train,\n",
    "                                     cv=3,\n",
    "                                     scoring=\"f1\")\n",
    "\n",
    "print('F1 Score - All - Cross Validation  : ', f1_train_cross_val)\n",
    "print('F1 Score - Mean - Cross Validation : ', f1_train_cross_val.mean())\n",
    "print('F1 Score - Std - Cross Validation  : ', f1_train_cross_val.std())\n",
    "print('F1 Score - Range of Test-Set       : ', (f1_train_cross_val.mean()-f1_train_cross_val.std()) , '-', (f1_train_cross_val.mean()+f1_train_cross_val.std()))"
   ]
  },
  {
   "cell_type": "markdown",
   "metadata": {},
   "source": [
    "### Decision Tree - Classifier"
   ]
  },
  {
   "cell_type": "code",
   "execution_count": 28,
   "metadata": {},
   "outputs": [
    {
     "name": "stdout",
     "output_type": "stream",
     "text": [
      "Training Score:  1.0\n",
      "Testing Score:  0.6081\n"
     ]
    }
   ],
   "source": [
    "# Model training - Decision Tree\n",
    "pipe_dt.fit(X_train, y_train)\n",
    "print('Training Score: ',round(pipe_dt.score(X_train, y_train),4))\n",
    "print('Testing Score: ', round(pipe_dt.score(X_test, y_test),4))"
   ]
  },
  {
   "cell_type": "code",
   "execution_count": 29,
   "metadata": {},
   "outputs": [],
   "source": [
    "# Model prediction - Decision Tree\n",
    "y_dt_pred = pipe_dt.predict(X_test)"
   ]
  },
  {
   "cell_type": "code",
   "execution_count": 30,
   "metadata": {},
   "outputs": [
    {
     "name": "stdout",
     "output_type": "stream",
     "text": [
      "              precision    recall  f1-score   support\n",
      "\n",
      " Non-Potable       0.69      0.67      0.68       510\n",
      "     Potable       0.48      0.50      0.49       309\n",
      "\n",
      "    accuracy                           0.61       819\n",
      "   macro avg       0.59      0.59      0.59       819\n",
      "weighted avg       0.61      0.61      0.61       819\n",
      "\n"
     ]
    }
   ],
   "source": [
    "# Classification report - Decision Tree\n",
    "target = ['Non-Potable', 'Potable']\n",
    "print(classification_report(y_test, y_dt_pred, target_names = target))"
   ]
  },
  {
   "cell_type": "code",
   "execution_count": 31,
   "metadata": {},
   "outputs": [
    {
     "name": "stdout",
     "output_type": "stream",
     "text": [
      "F1 Score - All - Cross Validation  :  [0.45635528 0.4368932  0.47272727]\n",
      "F1 Score - Mean - Cross Validation :  0.45532525330619267\n",
      "F1 Score - Std - Cross Validation  :  0.014647317020039817\n",
      "F1 Score - Range of Test-Set       :  0.44067793628615287 - 0.46997257032623246\n"
     ]
    }
   ],
   "source": [
    "# Cross Validation - Decision Tree\n",
    "\n",
    "f1_train_cross_val = cross_val_score(pipe_dt,\n",
    "                                     X_train,\n",
    "                                     y_train,\n",
    "                                     cv=3,\n",
    "                                     scoring=\"f1\")\n",
    "\n",
    "print('F1 Score - All - Cross Validation  : ', f1_train_cross_val)\n",
    "print('F1 Score - Mean - Cross Validation : ', f1_train_cross_val.mean())\n",
    "print('F1 Score - Std - Cross Validation  : ', f1_train_cross_val.std())\n",
    "print('F1 Score - Range of Test-Set       : ', (f1_train_cross_val.mean()-f1_train_cross_val.std()) , '-', (f1_train_cross_val.mean()+f1_train_cross_val.std()))"
   ]
  },
  {
   "cell_type": "markdown",
   "metadata": {},
   "source": [
    "### Random Forest - Classifier"
   ]
  },
  {
   "cell_type": "code",
   "execution_count": 32,
   "metadata": {},
   "outputs": [
    {
     "name": "stdout",
     "output_type": "stream",
     "text": [
      "Training Score:  1.0\n",
      "Testing Score:  0.685\n"
     ]
    }
   ],
   "source": [
    "# Model training - Random Forest\n",
    "pipe_rf.fit(X_train, y_train)\n",
    "print('Training Score: ',round(pipe_rf.score(X_train, y_train),4))\n",
    "print('Testing Score: ', round(pipe_rf.score(X_test, y_test),4))"
   ]
  },
  {
   "cell_type": "code",
   "execution_count": 33,
   "metadata": {},
   "outputs": [],
   "source": [
    "# Model prediction - Random Forest\n",
    "y_rf_pred = pipe_rf.predict(X_test)"
   ]
  },
  {
   "cell_type": "code",
   "execution_count": 34,
   "metadata": {},
   "outputs": [
    {
     "name": "stdout",
     "output_type": "stream",
     "text": [
      "              precision    recall  f1-score   support\n",
      "\n",
      " Non-Potable       0.69      0.89      0.78       510\n",
      "     Potable       0.66      0.35      0.45       309\n",
      "\n",
      "    accuracy                           0.68       819\n",
      "   macro avg       0.67      0.62      0.62       819\n",
      "weighted avg       0.68      0.68      0.66       819\n",
      "\n"
     ]
    }
   ],
   "source": [
    "# Classification report - Random Forest\n",
    "target = ['Non-Potable', 'Potable']\n",
    "print(classification_report(y_test, y_rf_pred, target_names = target))"
   ]
  },
  {
   "cell_type": "code",
   "execution_count": 35,
   "metadata": {},
   "outputs": [
    {
     "name": "stdout",
     "output_type": "stream",
     "text": [
      "F1 Score - All - Cross Validation  :  [0.42857143 0.42857143 0.4745098 ]\n",
      "F1 Score - Mean - Cross Validation :  0.44388422035480857\n",
      "F1 Score - Std - Cross Validation  :  0.021655557817851317\n",
      "F1 Score - Range of Test-Set       :  0.42222866253695723 - 0.4655397781726599\n"
     ]
    }
   ],
   "source": [
    "# Cross Validation - Random Forest\n",
    "\n",
    "f1_train_cross_val = cross_val_score(pipe_rf,\n",
    "                                     X_train,\n",
    "                                     y_train,\n",
    "                                     cv=3,\n",
    "                                     scoring=\"f1\")\n",
    "\n",
    "print('F1 Score - All - Cross Validation  : ', f1_train_cross_val)\n",
    "print('F1 Score - Mean - Cross Validation : ', f1_train_cross_val.mean())\n",
    "print('F1 Score - Std - Cross Validation  : ', f1_train_cross_val.std())\n",
    "print('F1 Score - Range of Test-Set       : ', (f1_train_cross_val.mean()-f1_train_cross_val.std()) , '-', (f1_train_cross_val.mean()+f1_train_cross_val.std()))"
   ]
  },
  {
   "cell_type": "markdown",
   "metadata": {},
   "source": [
    "### XGBoost - Classifier"
   ]
  },
  {
   "cell_type": "code",
   "execution_count": 36,
   "metadata": {},
   "outputs": [
    {
     "name": "stdout",
     "output_type": "stream",
     "text": [
      "Training Score:  0.9996\n",
      "Testing Score:  0.652\n"
     ]
    }
   ],
   "source": [
    "# Model training - XGBoost\n",
    "pipe_xgb.fit(X_train, y_train)\n",
    "print('Training Score: ',round(pipe_xgb.score(X_train, y_train),4))\n",
    "print('Testing Score: ', round(pipe_xgb.score(X_test, y_test),4))"
   ]
  },
  {
   "cell_type": "code",
   "execution_count": 37,
   "metadata": {},
   "outputs": [],
   "source": [
    "# Model prediction - XGBoost\n",
    "y_xgb_pred = pipe_xgb.predict(X_test)"
   ]
  },
  {
   "cell_type": "code",
   "execution_count": 38,
   "metadata": {},
   "outputs": [
    {
     "name": "stdout",
     "output_type": "stream",
     "text": [
      "              precision    recall  f1-score   support\n",
      "\n",
      " Non-Potable       0.69      0.79      0.74       510\n",
      "     Potable       0.55      0.42      0.48       309\n",
      "\n",
      "    accuracy                           0.65       819\n",
      "   macro avg       0.62      0.61      0.61       819\n",
      "weighted avg       0.64      0.65      0.64       819\n",
      "\n"
     ]
    }
   ],
   "source": [
    "# Classification report - XGBoost\n",
    "target = ['Non-Potable', 'Potable']\n",
    "print(classification_report(y_test, y_xgb_pred, target_names = target))"
   ]
  },
  {
   "cell_type": "code",
   "execution_count": 39,
   "metadata": {},
   "outputs": [
    {
     "name": "stdout",
     "output_type": "stream",
     "text": [
      "F1 Score - All - Cross Validation  :  [0.53666667 0.4556962  0.5083612 ]\n",
      "F1 Score - Mean - Cross Validation :  0.50024135773723\n",
      "F1 Score - Std - Cross Validation  :  0.03355098551181855\n",
      "F1 Score - Range of Test-Set       :  0.46669037222541143 - 0.5337923432490486\n"
     ]
    }
   ],
   "source": [
    "# Cross Validation - XGBoost\n",
    "\n",
    "f1_train_cross_val = cross_val_score(pipe_xgb,\n",
    "                                     X_train,\n",
    "                                     y_train,\n",
    "                                     cv=3,\n",
    "                                     scoring=\"f1\")\n",
    "\n",
    "print('F1 Score - All - Cross Validation  : ', f1_train_cross_val)\n",
    "print('F1 Score - Mean - Cross Validation : ', f1_train_cross_val.mean())\n",
    "print('F1 Score - Std - Cross Validation  : ', f1_train_cross_val.std())\n",
    "print('F1 Score - Range of Test-Set       : ', (f1_train_cross_val.mean()-f1_train_cross_val.std()) , '-', (f1_train_cross_val.mean()+f1_train_cross_val.std()))"
   ]
  },
  {
   "cell_type": "markdown",
   "metadata": {},
   "source": [
    "### Baseline Model Comparison"
   ]
  },
  {
   "cell_type": "code",
   "execution_count": 40,
   "metadata": {},
   "outputs": [],
   "source": [
    "# Evaluation Metrics Comparison\n",
    "# Model pipline dictionary\n",
    "models = {\n",
    "    'KNN' : pipe_knn,\n",
    "    'SVM' : pipe_svm,\n",
    "    'Decision Tree' : pipe_dt,\n",
    "    'Random Forest' : pipe_rf,\n",
    "    'XGBoost' : pipe_xgb\n",
    "}\n",
    "\n",
    "# Metrics evaluation dictionary\n",
    "metrics = {\n",
    "    'Accuracy' : accuracy_score,\n",
    "    'Precision' : precision_score,\n",
    "    'Recall' : recall_score,\n",
    "    'F1-Score' : f1_score,\n",
    "    'ROC-AUC' : roc_auc_score,\n",
    "}\n",
    "\n",
    "# Model comparison dataframe build syntax\n",
    "df_model = pd.DataFrame(columns = models.keys(), index=['Accuracy', 'Precision', 'Recall', 'F1-Score', 'ROC-AUC'])\n",
    "\n",
    "for metric in metrics.keys():\n",
    "  for model in models.keys():\n",
    "    df_model.loc[metric, model] = metrics[metric](y_test, models[model].predict(X_test))"
   ]
  },
  {
   "cell_type": "code",
   "execution_count": 41,
   "metadata": {},
   "outputs": [],
   "source": [
    "# Cross Validation Score Comparison\n",
    "# Model pipline dictionary\n",
    "models = {\n",
    "    'KNN' : pipe_knn,\n",
    "    'SVM' : pipe_svm,\n",
    "    'Decision Tree' : pipe_dt,\n",
    "    'Random Forest' : pipe_rf,\n",
    "    'XGBoost' : pipe_xgb\n",
    "}\n",
    "\n",
    "# Cross validation mean & std\n",
    "metrics = {\n",
    "    'Mean' : cross_val_score(models[model], X_train, y_train, cv = 3, scoring='f1').mean(),\n",
    "    'Std' : cross_val_score(models[model], X_train, y_train, cv = 3, scoring='f1').std()\n",
    "}\n",
    "\n",
    "# Model comparison dataframe build syntax\n",
    "df_cross_val = pd.DataFrame(columns = models.keys(), index = ['Mean', 'Std'])\n",
    "\n",
    "for i in metrics.keys():\n",
    "  for j in models.keys():\n",
    "    df_cross_val.loc[i, j] = metrics[i]"
   ]
  },
  {
   "cell_type": "code",
   "execution_count": 42,
   "metadata": {},
   "outputs": [
    {
     "name": "stdout",
     "output_type": "stream",
     "text": [
      "Performance Comparison:\n"
     ]
    },
    {
     "data": {
      "text/html": [
       "<div>\n",
       "<style scoped>\n",
       "    .dataframe tbody tr th:only-of-type {\n",
       "        vertical-align: middle;\n",
       "    }\n",
       "\n",
       "    .dataframe tbody tr th {\n",
       "        vertical-align: top;\n",
       "    }\n",
       "\n",
       "    .dataframe thead th {\n",
       "        text-align: right;\n",
       "    }\n",
       "</style>\n",
       "<table border=\"1\" class=\"dataframe\">\n",
       "  <thead>\n",
       "    <tr style=\"text-align: right;\">\n",
       "      <th></th>\n",
       "      <th>KNN</th>\n",
       "      <th>SVM</th>\n",
       "      <th>Decision Tree</th>\n",
       "      <th>Random Forest</th>\n",
       "      <th>XGBoost</th>\n",
       "    </tr>\n",
       "  </thead>\n",
       "  <tbody>\n",
       "    <tr>\n",
       "      <th>Accuracy</th>\n",
       "      <td>0.622711</td>\n",
       "      <td>0.680098</td>\n",
       "      <td>0.608059</td>\n",
       "      <td>0.684982</td>\n",
       "      <td>0.652015</td>\n",
       "    </tr>\n",
       "    <tr>\n",
       "      <th>Precision</th>\n",
       "      <td>0.5</td>\n",
       "      <td>0.653595</td>\n",
       "      <td>0.481481</td>\n",
       "      <td>0.656442</td>\n",
       "      <td>0.55042</td>\n",
       "    </tr>\n",
       "    <tr>\n",
       "      <th>Recall</th>\n",
       "      <td>0.391586</td>\n",
       "      <td>0.323625</td>\n",
       "      <td>0.504854</td>\n",
       "      <td>0.346278</td>\n",
       "      <td>0.423948</td>\n",
       "    </tr>\n",
       "    <tr>\n",
       "      <th>F1-Score</th>\n",
       "      <td>0.439201</td>\n",
       "      <td>0.4329</td>\n",
       "      <td>0.492891</td>\n",
       "      <td>0.45339</td>\n",
       "      <td>0.478976</td>\n",
       "    </tr>\n",
       "    <tr>\n",
       "      <th>ROC-AUC</th>\n",
       "      <td>0.577165</td>\n",
       "      <td>0.609852</td>\n",
       "      <td>0.587721</td>\n",
       "      <td>0.618237</td>\n",
       "      <td>0.607072</td>\n",
       "    </tr>\n",
       "  </tbody>\n",
       "</table>\n",
       "</div>"
      ],
      "text/plain": [
       "                KNN       SVM Decision Tree Random Forest   XGBoost\n",
       "Accuracy   0.622711  0.680098      0.608059      0.684982  0.652015\n",
       "Precision       0.5  0.653595      0.481481      0.656442   0.55042\n",
       "Recall     0.391586  0.323625      0.504854      0.346278  0.423948\n",
       "F1-Score   0.439201    0.4329      0.492891       0.45339  0.478976\n",
       "ROC-AUC    0.577165  0.609852      0.587721      0.618237  0.607072"
      ]
     },
     "metadata": {},
     "output_type": "display_data"
    },
    {
     "name": "stdout",
     "output_type": "stream",
     "text": [
      "\n",
      "Cross Validation:\n"
     ]
    },
    {
     "data": {
      "text/html": [
       "<div>\n",
       "<style scoped>\n",
       "    .dataframe tbody tr th:only-of-type {\n",
       "        vertical-align: middle;\n",
       "    }\n",
       "\n",
       "    .dataframe tbody tr th {\n",
       "        vertical-align: top;\n",
       "    }\n",
       "\n",
       "    .dataframe thead th {\n",
       "        text-align: right;\n",
       "    }\n",
       "</style>\n",
       "<table border=\"1\" class=\"dataframe\">\n",
       "  <thead>\n",
       "    <tr style=\"text-align: right;\">\n",
       "      <th></th>\n",
       "      <th>KNN</th>\n",
       "      <th>SVM</th>\n",
       "      <th>Decision Tree</th>\n",
       "      <th>Random Forest</th>\n",
       "      <th>XGBoost</th>\n",
       "    </tr>\n",
       "  </thead>\n",
       "  <tbody>\n",
       "    <tr>\n",
       "      <th>Mean</th>\n",
       "      <td>0.500241</td>\n",
       "      <td>0.500241</td>\n",
       "      <td>0.500241</td>\n",
       "      <td>0.500241</td>\n",
       "      <td>0.500241</td>\n",
       "    </tr>\n",
       "    <tr>\n",
       "      <th>Std</th>\n",
       "      <td>0.033551</td>\n",
       "      <td>0.033551</td>\n",
       "      <td>0.033551</td>\n",
       "      <td>0.033551</td>\n",
       "      <td>0.033551</td>\n",
       "    </tr>\n",
       "  </tbody>\n",
       "</table>\n",
       "</div>"
      ],
      "text/plain": [
       "           KNN       SVM Decision Tree Random Forest   XGBoost\n",
       "Mean  0.500241  0.500241      0.500241      0.500241  0.500241\n",
       "Std   0.033551  0.033551      0.033551      0.033551  0.033551"
      ]
     },
     "metadata": {},
     "output_type": "display_data"
    }
   ],
   "source": [
    "# Baseline model evaluation comparison\n",
    "print(\"Performance Comparison:\")\n",
    "display(df_model)\n",
    "\n",
    "print(\"\\nCross Validation:\")\n",
    "display(df_cross_val)"
   ]
  },
  {
   "cell_type": "markdown",
   "metadata": {},
   "source": [
    "Objective yang ingin dicapai oleh project ini adalah membuat model yang mampu memprediksi klasifikasi air layak konsumsi, sehingga dapat dikatakan bahwa fokus utama yang harus dicapai model adalah memprediksi benar klasifikasi air layak minum atau meminimalisir adanya False Positive. Dalam kasus dataset ini, akan berbahaya jika terdapat air yang sebenarnya tidak layak untuk minum namun terklasifikasi sebagai air layak minum atau yang disebut sebagai False Positive. \n",
    "\n",
    "Berdasarkan objective utama untuk meminimalisir False Positive, maka evaluation metrics yang digunakan adalah metrics **Precision**. Namun, sebagai pertimbangan tambahan dalam menilai performa model maka terdapat beberapa evaluation metrics yang dapat pula digunakan, seperti **F1 Score** sebagai evaluasi terhadap False Positive dan False Negative, serta **ROC-AUC** sebagai evaluasi ketepatan prediksi model secara keseluruhan yang cocok untuk tipe binary classification dan imbalanced seperti dataset ini.\n",
    "\n",
    "Berdasarkan perbandingan evaluation metrics dari tiap baseline model, dapat dikatakan bahwa seluruh model memiliki performa yang kurang memuaskan. Namun diantara semua model, model **Random Forest** terlihat memiliki score yang lebih baik dibanding yang lainnya."
   ]
  },
  {
   "cell_type": "markdown",
   "metadata": {},
   "source": [
    "---"
   ]
  },
  {
   "cell_type": "markdown",
   "metadata": {},
   "source": [
    "# Model Optimization"
   ]
  },
  {
   "cell_type": "markdown",
   "metadata": {},
   "source": [
    "### Hyperparameter Tuning"
   ]
  },
  {
   "cell_type": "code",
   "execution_count": 43,
   "metadata": {},
   "outputs": [],
   "source": [
    "# Parameter tuning list\n",
    "param_rf = {\n",
    "    'transformer__scaler' : [StandardScaler(), MinMaxScaler()],\n",
    "    'classifier__n_estimators' : np.arange(100, 401, 100), # vary from 100 to 400 in steps of 100\n",
    "    'classifier__max_depth' : np.arange(2, 8, 2) # vary from 2 to 8 in steps of 2\n",
    "}"
   ]
  },
  {
   "cell_type": "code",
   "execution_count": 44,
   "metadata": {},
   "outputs": [],
   "source": [
    "# Hyperparameter tuning fit\n",
    "grid_rf = GridSearchCV(pipe_rf, param_rf, cv=5).fit(X_train, y_train)"
   ]
  },
  {
   "cell_type": "code",
   "execution_count": 45,
   "metadata": {},
   "outputs": [
    {
     "name": "stdout",
     "output_type": "stream",
     "text": [
      "Train Set Score :  0.726902726902727\n",
      "Test Set Score :  0.663003663003663\n"
     ]
    }
   ],
   "source": [
    "# Model performance\n",
    "print('Train Set Score : ', grid_rf.score(X_train, y_train))\n",
    "print('Test Set Score : ', grid_rf.score(X_test, y_test))"
   ]
  },
  {
   "cell_type": "code",
   "execution_count": 46,
   "metadata": {},
   "outputs": [
    {
     "name": "stdout",
     "output_type": "stream",
     "text": [
      "Best Parameter Selected:\n",
      "{'classifier__max_depth': 6, 'classifier__n_estimators': 400, 'transformer__scaler': MinMaxScaler()}\n",
      "\n",
      "\n",
      "Best Pipeline Model Selected:\n"
     ]
    },
    {
     "data": {
      "text/html": [
       "<style>#sk-container-id-1 {\n",
       "  /* Definition of color scheme common for light and dark mode */\n",
       "  --sklearn-color-text: black;\n",
       "  --sklearn-color-line: gray;\n",
       "  /* Definition of color scheme for unfitted estimators */\n",
       "  --sklearn-color-unfitted-level-0: #fff5e6;\n",
       "  --sklearn-color-unfitted-level-1: #f6e4d2;\n",
       "  --sklearn-color-unfitted-level-2: #ffe0b3;\n",
       "  --sklearn-color-unfitted-level-3: chocolate;\n",
       "  /* Definition of color scheme for fitted estimators */\n",
       "  --sklearn-color-fitted-level-0: #f0f8ff;\n",
       "  --sklearn-color-fitted-level-1: #d4ebff;\n",
       "  --sklearn-color-fitted-level-2: #b3dbfd;\n",
       "  --sklearn-color-fitted-level-3: cornflowerblue;\n",
       "\n",
       "  /* Specific color for light theme */\n",
       "  --sklearn-color-text-on-default-background: var(--sg-text-color, var(--theme-code-foreground, var(--jp-content-font-color1, black)));\n",
       "  --sklearn-color-background: var(--sg-background-color, var(--theme-background, var(--jp-layout-color0, white)));\n",
       "  --sklearn-color-border-box: var(--sg-text-color, var(--theme-code-foreground, var(--jp-content-font-color1, black)));\n",
       "  --sklearn-color-icon: #696969;\n",
       "\n",
       "  @media (prefers-color-scheme: dark) {\n",
       "    /* Redefinition of color scheme for dark theme */\n",
       "    --sklearn-color-text-on-default-background: var(--sg-text-color, var(--theme-code-foreground, var(--jp-content-font-color1, white)));\n",
       "    --sklearn-color-background: var(--sg-background-color, var(--theme-background, var(--jp-layout-color0, #111)));\n",
       "    --sklearn-color-border-box: var(--sg-text-color, var(--theme-code-foreground, var(--jp-content-font-color1, white)));\n",
       "    --sklearn-color-icon: #878787;\n",
       "  }\n",
       "}\n",
       "\n",
       "#sk-container-id-1 {\n",
       "  color: var(--sklearn-color-text);\n",
       "}\n",
       "\n",
       "#sk-container-id-1 pre {\n",
       "  padding: 0;\n",
       "}\n",
       "\n",
       "#sk-container-id-1 input.sk-hidden--visually {\n",
       "  border: 0;\n",
       "  clip: rect(1px 1px 1px 1px);\n",
       "  clip: rect(1px, 1px, 1px, 1px);\n",
       "  height: 1px;\n",
       "  margin: -1px;\n",
       "  overflow: hidden;\n",
       "  padding: 0;\n",
       "  position: absolute;\n",
       "  width: 1px;\n",
       "}\n",
       "\n",
       "#sk-container-id-1 div.sk-dashed-wrapped {\n",
       "  border: 1px dashed var(--sklearn-color-line);\n",
       "  margin: 0 0.4em 0.5em 0.4em;\n",
       "  box-sizing: border-box;\n",
       "  padding-bottom: 0.4em;\n",
       "  background-color: var(--sklearn-color-background);\n",
       "}\n",
       "\n",
       "#sk-container-id-1 div.sk-container {\n",
       "  /* jupyter's `normalize.less` sets `[hidden] { display: none; }`\n",
       "     but bootstrap.min.css set `[hidden] { display: none !important; }`\n",
       "     so we also need the `!important` here to be able to override the\n",
       "     default hidden behavior on the sphinx rendered scikit-learn.org.\n",
       "     See: https://github.com/scikit-learn/scikit-learn/issues/21755 */\n",
       "  display: inline-block !important;\n",
       "  position: relative;\n",
       "}\n",
       "\n",
       "#sk-container-id-1 div.sk-text-repr-fallback {\n",
       "  display: none;\n",
       "}\n",
       "\n",
       "div.sk-parallel-item,\n",
       "div.sk-serial,\n",
       "div.sk-item {\n",
       "  /* draw centered vertical line to link estimators */\n",
       "  background-image: linear-gradient(var(--sklearn-color-text-on-default-background), var(--sklearn-color-text-on-default-background));\n",
       "  background-size: 2px 100%;\n",
       "  background-repeat: no-repeat;\n",
       "  background-position: center center;\n",
       "}\n",
       "\n",
       "/* Parallel-specific style estimator block */\n",
       "\n",
       "#sk-container-id-1 div.sk-parallel-item::after {\n",
       "  content: \"\";\n",
       "  width: 100%;\n",
       "  border-bottom: 2px solid var(--sklearn-color-text-on-default-background);\n",
       "  flex-grow: 1;\n",
       "}\n",
       "\n",
       "#sk-container-id-1 div.sk-parallel {\n",
       "  display: flex;\n",
       "  align-items: stretch;\n",
       "  justify-content: center;\n",
       "  background-color: var(--sklearn-color-background);\n",
       "  position: relative;\n",
       "}\n",
       "\n",
       "#sk-container-id-1 div.sk-parallel-item {\n",
       "  display: flex;\n",
       "  flex-direction: column;\n",
       "}\n",
       "\n",
       "#sk-container-id-1 div.sk-parallel-item:first-child::after {\n",
       "  align-self: flex-end;\n",
       "  width: 50%;\n",
       "}\n",
       "\n",
       "#sk-container-id-1 div.sk-parallel-item:last-child::after {\n",
       "  align-self: flex-start;\n",
       "  width: 50%;\n",
       "}\n",
       "\n",
       "#sk-container-id-1 div.sk-parallel-item:only-child::after {\n",
       "  width: 0;\n",
       "}\n",
       "\n",
       "/* Serial-specific style estimator block */\n",
       "\n",
       "#sk-container-id-1 div.sk-serial {\n",
       "  display: flex;\n",
       "  flex-direction: column;\n",
       "  align-items: center;\n",
       "  background-color: var(--sklearn-color-background);\n",
       "  padding-right: 1em;\n",
       "  padding-left: 1em;\n",
       "}\n",
       "\n",
       "\n",
       "/* Toggleable style: style used for estimator/Pipeline/ColumnTransformer box that is\n",
       "clickable and can be expanded/collapsed.\n",
       "- Pipeline and ColumnTransformer use this feature and define the default style\n",
       "- Estimators will overwrite some part of the style using the `sk-estimator` class\n",
       "*/\n",
       "\n",
       "/* Pipeline and ColumnTransformer style (default) */\n",
       "\n",
       "#sk-container-id-1 div.sk-toggleable {\n",
       "  /* Default theme specific background. It is overwritten whether we have a\n",
       "  specific estimator or a Pipeline/ColumnTransformer */\n",
       "  background-color: var(--sklearn-color-background);\n",
       "}\n",
       "\n",
       "/* Toggleable label */\n",
       "#sk-container-id-1 label.sk-toggleable__label {\n",
       "  cursor: pointer;\n",
       "  display: block;\n",
       "  width: 100%;\n",
       "  margin-bottom: 0;\n",
       "  padding: 0.5em;\n",
       "  box-sizing: border-box;\n",
       "  text-align: center;\n",
       "}\n",
       "\n",
       "#sk-container-id-1 label.sk-toggleable__label-arrow:before {\n",
       "  /* Arrow on the left of the label */\n",
       "  content: \"▸\";\n",
       "  float: left;\n",
       "  margin-right: 0.25em;\n",
       "  color: var(--sklearn-color-icon);\n",
       "}\n",
       "\n",
       "#sk-container-id-1 label.sk-toggleable__label-arrow:hover:before {\n",
       "  color: var(--sklearn-color-text);\n",
       "}\n",
       "\n",
       "/* Toggleable content - dropdown */\n",
       "\n",
       "#sk-container-id-1 div.sk-toggleable__content {\n",
       "  max-height: 0;\n",
       "  max-width: 0;\n",
       "  overflow: hidden;\n",
       "  text-align: left;\n",
       "  /* unfitted */\n",
       "  background-color: var(--sklearn-color-unfitted-level-0);\n",
       "}\n",
       "\n",
       "#sk-container-id-1 div.sk-toggleable__content.fitted {\n",
       "  /* fitted */\n",
       "  background-color: var(--sklearn-color-fitted-level-0);\n",
       "}\n",
       "\n",
       "#sk-container-id-1 div.sk-toggleable__content pre {\n",
       "  margin: 0.2em;\n",
       "  border-radius: 0.25em;\n",
       "  color: var(--sklearn-color-text);\n",
       "  /* unfitted */\n",
       "  background-color: var(--sklearn-color-unfitted-level-0);\n",
       "}\n",
       "\n",
       "#sk-container-id-1 div.sk-toggleable__content.fitted pre {\n",
       "  /* unfitted */\n",
       "  background-color: var(--sklearn-color-fitted-level-0);\n",
       "}\n",
       "\n",
       "#sk-container-id-1 input.sk-toggleable__control:checked~div.sk-toggleable__content {\n",
       "  /* Expand drop-down */\n",
       "  max-height: 200px;\n",
       "  max-width: 100%;\n",
       "  overflow: auto;\n",
       "}\n",
       "\n",
       "#sk-container-id-1 input.sk-toggleable__control:checked~label.sk-toggleable__label-arrow:before {\n",
       "  content: \"▾\";\n",
       "}\n",
       "\n",
       "/* Pipeline/ColumnTransformer-specific style */\n",
       "\n",
       "#sk-container-id-1 div.sk-label input.sk-toggleable__control:checked~label.sk-toggleable__label {\n",
       "  color: var(--sklearn-color-text);\n",
       "  background-color: var(--sklearn-color-unfitted-level-2);\n",
       "}\n",
       "\n",
       "#sk-container-id-1 div.sk-label.fitted input.sk-toggleable__control:checked~label.sk-toggleable__label {\n",
       "  background-color: var(--sklearn-color-fitted-level-2);\n",
       "}\n",
       "\n",
       "/* Estimator-specific style */\n",
       "\n",
       "/* Colorize estimator box */\n",
       "#sk-container-id-1 div.sk-estimator input.sk-toggleable__control:checked~label.sk-toggleable__label {\n",
       "  /* unfitted */\n",
       "  background-color: var(--sklearn-color-unfitted-level-2);\n",
       "}\n",
       "\n",
       "#sk-container-id-1 div.sk-estimator.fitted input.sk-toggleable__control:checked~label.sk-toggleable__label {\n",
       "  /* fitted */\n",
       "  background-color: var(--sklearn-color-fitted-level-2);\n",
       "}\n",
       "\n",
       "#sk-container-id-1 div.sk-label label.sk-toggleable__label,\n",
       "#sk-container-id-1 div.sk-label label {\n",
       "  /* The background is the default theme color */\n",
       "  color: var(--sklearn-color-text-on-default-background);\n",
       "}\n",
       "\n",
       "/* On hover, darken the color of the background */\n",
       "#sk-container-id-1 div.sk-label:hover label.sk-toggleable__label {\n",
       "  color: var(--sklearn-color-text);\n",
       "  background-color: var(--sklearn-color-unfitted-level-2);\n",
       "}\n",
       "\n",
       "/* Label box, darken color on hover, fitted */\n",
       "#sk-container-id-1 div.sk-label.fitted:hover label.sk-toggleable__label.fitted {\n",
       "  color: var(--sklearn-color-text);\n",
       "  background-color: var(--sklearn-color-fitted-level-2);\n",
       "}\n",
       "\n",
       "/* Estimator label */\n",
       "\n",
       "#sk-container-id-1 div.sk-label label {\n",
       "  font-family: monospace;\n",
       "  font-weight: bold;\n",
       "  display: inline-block;\n",
       "  line-height: 1.2em;\n",
       "}\n",
       "\n",
       "#sk-container-id-1 div.sk-label-container {\n",
       "  text-align: center;\n",
       "}\n",
       "\n",
       "/* Estimator-specific */\n",
       "#sk-container-id-1 div.sk-estimator {\n",
       "  font-family: monospace;\n",
       "  border: 1px dotted var(--sklearn-color-border-box);\n",
       "  border-radius: 0.25em;\n",
       "  box-sizing: border-box;\n",
       "  margin-bottom: 0.5em;\n",
       "  /* unfitted */\n",
       "  background-color: var(--sklearn-color-unfitted-level-0);\n",
       "}\n",
       "\n",
       "#sk-container-id-1 div.sk-estimator.fitted {\n",
       "  /* fitted */\n",
       "  background-color: var(--sklearn-color-fitted-level-0);\n",
       "}\n",
       "\n",
       "/* on hover */\n",
       "#sk-container-id-1 div.sk-estimator:hover {\n",
       "  /* unfitted */\n",
       "  background-color: var(--sklearn-color-unfitted-level-2);\n",
       "}\n",
       "\n",
       "#sk-container-id-1 div.sk-estimator.fitted:hover {\n",
       "  /* fitted */\n",
       "  background-color: var(--sklearn-color-fitted-level-2);\n",
       "}\n",
       "\n",
       "/* Specification for estimator info (e.g. \"i\" and \"?\") */\n",
       "\n",
       "/* Common style for \"i\" and \"?\" */\n",
       "\n",
       ".sk-estimator-doc-link,\n",
       "a:link.sk-estimator-doc-link,\n",
       "a:visited.sk-estimator-doc-link {\n",
       "  float: right;\n",
       "  font-size: smaller;\n",
       "  line-height: 1em;\n",
       "  font-family: monospace;\n",
       "  background-color: var(--sklearn-color-background);\n",
       "  border-radius: 1em;\n",
       "  height: 1em;\n",
       "  width: 1em;\n",
       "  text-decoration: none !important;\n",
       "  margin-left: 1ex;\n",
       "  /* unfitted */\n",
       "  border: var(--sklearn-color-unfitted-level-1) 1pt solid;\n",
       "  color: var(--sklearn-color-unfitted-level-1);\n",
       "}\n",
       "\n",
       ".sk-estimator-doc-link.fitted,\n",
       "a:link.sk-estimator-doc-link.fitted,\n",
       "a:visited.sk-estimator-doc-link.fitted {\n",
       "  /* fitted */\n",
       "  border: var(--sklearn-color-fitted-level-1) 1pt solid;\n",
       "  color: var(--sklearn-color-fitted-level-1);\n",
       "}\n",
       "\n",
       "/* On hover */\n",
       "div.sk-estimator:hover .sk-estimator-doc-link:hover,\n",
       ".sk-estimator-doc-link:hover,\n",
       "div.sk-label-container:hover .sk-estimator-doc-link:hover,\n",
       ".sk-estimator-doc-link:hover {\n",
       "  /* unfitted */\n",
       "  background-color: var(--sklearn-color-unfitted-level-3);\n",
       "  color: var(--sklearn-color-background);\n",
       "  text-decoration: none;\n",
       "}\n",
       "\n",
       "div.sk-estimator.fitted:hover .sk-estimator-doc-link.fitted:hover,\n",
       ".sk-estimator-doc-link.fitted:hover,\n",
       "div.sk-label-container:hover .sk-estimator-doc-link.fitted:hover,\n",
       ".sk-estimator-doc-link.fitted:hover {\n",
       "  /* fitted */\n",
       "  background-color: var(--sklearn-color-fitted-level-3);\n",
       "  color: var(--sklearn-color-background);\n",
       "  text-decoration: none;\n",
       "}\n",
       "\n",
       "/* Span, style for the box shown on hovering the info icon */\n",
       ".sk-estimator-doc-link span {\n",
       "  display: none;\n",
       "  z-index: 9999;\n",
       "  position: relative;\n",
       "  font-weight: normal;\n",
       "  right: .2ex;\n",
       "  padding: .5ex;\n",
       "  margin: .5ex;\n",
       "  width: min-content;\n",
       "  min-width: 20ex;\n",
       "  max-width: 50ex;\n",
       "  color: var(--sklearn-color-text);\n",
       "  box-shadow: 2pt 2pt 4pt #999;\n",
       "  /* unfitted */\n",
       "  background: var(--sklearn-color-unfitted-level-0);\n",
       "  border: .5pt solid var(--sklearn-color-unfitted-level-3);\n",
       "}\n",
       "\n",
       ".sk-estimator-doc-link.fitted span {\n",
       "  /* fitted */\n",
       "  background: var(--sklearn-color-fitted-level-0);\n",
       "  border: var(--sklearn-color-fitted-level-3);\n",
       "}\n",
       "\n",
       ".sk-estimator-doc-link:hover span {\n",
       "  display: block;\n",
       "}\n",
       "\n",
       "/* \"?\"-specific style due to the `<a>` HTML tag */\n",
       "\n",
       "#sk-container-id-1 a.estimator_doc_link {\n",
       "  float: right;\n",
       "  font-size: 1rem;\n",
       "  line-height: 1em;\n",
       "  font-family: monospace;\n",
       "  background-color: var(--sklearn-color-background);\n",
       "  border-radius: 1rem;\n",
       "  height: 1rem;\n",
       "  width: 1rem;\n",
       "  text-decoration: none;\n",
       "  /* unfitted */\n",
       "  color: var(--sklearn-color-unfitted-level-1);\n",
       "  border: var(--sklearn-color-unfitted-level-1) 1pt solid;\n",
       "}\n",
       "\n",
       "#sk-container-id-1 a.estimator_doc_link.fitted {\n",
       "  /* fitted */\n",
       "  border: var(--sklearn-color-fitted-level-1) 1pt solid;\n",
       "  color: var(--sklearn-color-fitted-level-1);\n",
       "}\n",
       "\n",
       "/* On hover */\n",
       "#sk-container-id-1 a.estimator_doc_link:hover {\n",
       "  /* unfitted */\n",
       "  background-color: var(--sklearn-color-unfitted-level-3);\n",
       "  color: var(--sklearn-color-background);\n",
       "  text-decoration: none;\n",
       "}\n",
       "\n",
       "#sk-container-id-1 a.estimator_doc_link.fitted:hover {\n",
       "  /* fitted */\n",
       "  background-color: var(--sklearn-color-fitted-level-3);\n",
       "}\n",
       "</style><div id=\"sk-container-id-1\" class=\"sk-top-container\"><div class=\"sk-text-repr-fallback\"><pre>Pipeline(steps=[(&#x27;transformer&#x27;,\n",
       "                 ColumnTransformer(transformers=[(&#x27;scaler&#x27;, MinMaxScaler(),\n",
       "                                                  &lt;sklearn.compose._column_transformer.make_column_selector object at 0x000001DCC0B24100&gt;)])),\n",
       "                (&#x27;classifier&#x27;,\n",
       "                 RandomForestClassifier(max_depth=6, n_estimators=400))])</pre><b>In a Jupyter environment, please rerun this cell to show the HTML representation or trust the notebook. <br />On GitHub, the HTML representation is unable to render, please try loading this page with nbviewer.org.</b></div><div class=\"sk-container\" hidden><div class=\"sk-item sk-dashed-wrapped\"><div class=\"sk-label-container\"><div class=\"sk-label fitted sk-toggleable\"><input class=\"sk-toggleable__control sk-hidden--visually\" id=\"sk-estimator-id-1\" type=\"checkbox\" ><label for=\"sk-estimator-id-1\" class=\"sk-toggleable__label fitted sk-toggleable__label-arrow fitted\">&nbsp;&nbsp;Pipeline<a class=\"sk-estimator-doc-link fitted\" rel=\"noreferrer\" target=\"_blank\" href=\"https://scikit-learn.org/1.4/modules/generated/sklearn.pipeline.Pipeline.html\">?<span>Documentation for Pipeline</span></a><span class=\"sk-estimator-doc-link fitted\">i<span>Fitted</span></span></label><div class=\"sk-toggleable__content fitted\"><pre>Pipeline(steps=[(&#x27;transformer&#x27;,\n",
       "                 ColumnTransformer(transformers=[(&#x27;scaler&#x27;, MinMaxScaler(),\n",
       "                                                  &lt;sklearn.compose._column_transformer.make_column_selector object at 0x000001DCC0B24100&gt;)])),\n",
       "                (&#x27;classifier&#x27;,\n",
       "                 RandomForestClassifier(max_depth=6, n_estimators=400))])</pre></div> </div></div><div class=\"sk-serial\"><div class=\"sk-item sk-dashed-wrapped\"><div class=\"sk-label-container\"><div class=\"sk-label fitted sk-toggleable\"><input class=\"sk-toggleable__control sk-hidden--visually\" id=\"sk-estimator-id-2\" type=\"checkbox\" ><label for=\"sk-estimator-id-2\" class=\"sk-toggleable__label fitted sk-toggleable__label-arrow fitted\">&nbsp;transformer: ColumnTransformer<a class=\"sk-estimator-doc-link fitted\" rel=\"noreferrer\" target=\"_blank\" href=\"https://scikit-learn.org/1.4/modules/generated/sklearn.compose.ColumnTransformer.html\">?<span>Documentation for transformer: ColumnTransformer</span></a></label><div class=\"sk-toggleable__content fitted\"><pre>ColumnTransformer(transformers=[(&#x27;scaler&#x27;, MinMaxScaler(),\n",
       "                                 &lt;sklearn.compose._column_transformer.make_column_selector object at 0x000001DCC0B24100&gt;)])</pre></div> </div></div><div class=\"sk-parallel\"><div class=\"sk-parallel-item\"><div class=\"sk-item\"><div class=\"sk-label-container\"><div class=\"sk-label fitted sk-toggleable\"><input class=\"sk-toggleable__control sk-hidden--visually\" id=\"sk-estimator-id-3\" type=\"checkbox\" ><label for=\"sk-estimator-id-3\" class=\"sk-toggleable__label fitted sk-toggleable__label-arrow fitted\">scaler</label><div class=\"sk-toggleable__content fitted\"><pre>&lt;sklearn.compose._column_transformer.make_column_selector object at 0x000001DCC0B24100&gt;</pre></div> </div></div><div class=\"sk-serial\"><div class=\"sk-item\"><div class=\"sk-estimator fitted sk-toggleable\"><input class=\"sk-toggleable__control sk-hidden--visually\" id=\"sk-estimator-id-4\" type=\"checkbox\" ><label for=\"sk-estimator-id-4\" class=\"sk-toggleable__label fitted sk-toggleable__label-arrow fitted\">&nbsp;MinMaxScaler<a class=\"sk-estimator-doc-link fitted\" rel=\"noreferrer\" target=\"_blank\" href=\"https://scikit-learn.org/1.4/modules/generated/sklearn.preprocessing.MinMaxScaler.html\">?<span>Documentation for MinMaxScaler</span></a></label><div class=\"sk-toggleable__content fitted\"><pre>MinMaxScaler()</pre></div> </div></div></div></div></div></div></div><div class=\"sk-item\"><div class=\"sk-estimator fitted sk-toggleable\"><input class=\"sk-toggleable__control sk-hidden--visually\" id=\"sk-estimator-id-5\" type=\"checkbox\" ><label for=\"sk-estimator-id-5\" class=\"sk-toggleable__label fitted sk-toggleable__label-arrow fitted\">&nbsp;RandomForestClassifier<a class=\"sk-estimator-doc-link fitted\" rel=\"noreferrer\" target=\"_blank\" href=\"https://scikit-learn.org/1.4/modules/generated/sklearn.ensemble.RandomForestClassifier.html\">?<span>Documentation for RandomForestClassifier</span></a></label><div class=\"sk-toggleable__content fitted\"><pre>RandomForestClassifier(max_depth=6, n_estimators=400)</pre></div> </div></div></div></div></div></div>"
      ],
      "text/plain": [
       "Pipeline(steps=[('transformer',\n",
       "                 ColumnTransformer(transformers=[('scaler', MinMaxScaler(),\n",
       "                                                  <sklearn.compose._column_transformer.make_column_selector object at 0x000001DCC0B24100>)])),\n",
       "                ('classifier',\n",
       "                 RandomForestClassifier(max_depth=6, n_estimators=400))])"
      ]
     },
     "metadata": {},
     "output_type": "display_data"
    }
   ],
   "source": [
    "# Best parameter\n",
    "best_param_rf = grid_rf.best_params_\n",
    "print(\"Best Parameter Selected:\")\n",
    "print(best_param_rf)\n",
    "print('\\n')\n",
    "\n",
    "# Best pipeline model\n",
    "best_pipe_rf = grid_rf.best_estimator_\n",
    "print(\"Best Pipeline Model Selected:\")\n",
    "display(best_pipe_rf)"
   ]
  },
  {
   "cell_type": "code",
   "execution_count": 47,
   "metadata": {},
   "outputs": [
    {
     "name": "stdout",
     "output_type": "stream",
     "text": [
      "              precision    recall  f1-score   support\n",
      "\n",
      "           0       0.66      0.96      0.78       510\n",
      "           1       0.73      0.17      0.28       309\n",
      "\n",
      "    accuracy                           0.66       819\n",
      "   macro avg       0.69      0.57      0.53       819\n",
      "weighted avg       0.68      0.66      0.59       819\n",
      "\n"
     ]
    }
   ],
   "source": [
    "# Best model classification report\n",
    "print(classification_report(y_test, best_pipe_rf.predict(X_test)))"
   ]
  },
  {
   "cell_type": "markdown",
   "metadata": {},
   "source": [
    "Berdasarkan hyperparameter tuning yang dilakukan pada model Random Forest, nilai performa terbaik yang dapat diperoleh adalah sebesar 72% pada train set adalah sebesar 66% pada test set, dengan menggunakan parameter `max_depth= 6`, `n_estimators= 400`, pada `scaler= MinMaxScaler()`."
   ]
  },
  {
   "cell_type": "markdown",
   "metadata": {},
   "source": [
    "### After Tuning Comparison"
   ]
  },
  {
   "cell_type": "code",
   "execution_count": 48,
   "metadata": {},
   "outputs": [],
   "source": [
    "# Model after tuning\n",
    "models = {\n",
    "    'Random Forest' : best_pipe_rf\n",
    "}\n",
    "\n",
    "# Metrics evaluation dictionary\n",
    "metrics = {\n",
    "    'Accuracy' : accuracy_score,\n",
    "    'Precision' : precision_score,\n",
    "    'Recall' : recall_score,\n",
    "    'F1-Score' : f1_score,\n",
    "    'ROC-AUC' : roc_auc_score,\n",
    "}\n",
    "\n",
    "# Metrics dataframe for best model\n",
    "model_tuning = pd.DataFrame(columns = models.keys(), index=['Accuracy', 'Precision', 'Recall', 'F1-Score', 'ROC-AUC'])\n",
    "\n",
    "for metric in metrics.keys():\n",
    "  for model in models.keys():\n",
    "    model_tuning.loc[metric, model] = metrics[metric](y_test, models[model].predict(X_test))"
   ]
  },
  {
   "cell_type": "code",
   "execution_count": 49,
   "metadata": {},
   "outputs": [
    {
     "name": "stdout",
     "output_type": "stream",
     "text": [
      "Performance Comparison:\n"
     ]
    },
    {
     "data": {
      "text/html": [
       "<div>\n",
       "<style scoped>\n",
       "    .dataframe tbody tr th:only-of-type {\n",
       "        vertical-align: middle;\n",
       "    }\n",
       "\n",
       "    .dataframe tbody tr th {\n",
       "        vertical-align: top;\n",
       "    }\n",
       "\n",
       "    .dataframe thead th {\n",
       "        text-align: right;\n",
       "    }\n",
       "</style>\n",
       "<table border=\"1\" class=\"dataframe\">\n",
       "  <thead>\n",
       "    <tr style=\"text-align: right;\">\n",
       "      <th></th>\n",
       "      <th>KNN</th>\n",
       "      <th>SVM</th>\n",
       "      <th>Decision Tree</th>\n",
       "      <th>Random Forest</th>\n",
       "      <th>XGBoost</th>\n",
       "    </tr>\n",
       "  </thead>\n",
       "  <tbody>\n",
       "    <tr>\n",
       "      <th>Accuracy</th>\n",
       "      <td>0.622711</td>\n",
       "      <td>0.680098</td>\n",
       "      <td>0.608059</td>\n",
       "      <td>0.684982</td>\n",
       "      <td>0.652015</td>\n",
       "    </tr>\n",
       "    <tr>\n",
       "      <th>Precision</th>\n",
       "      <td>0.5</td>\n",
       "      <td>0.653595</td>\n",
       "      <td>0.481481</td>\n",
       "      <td>0.656442</td>\n",
       "      <td>0.55042</td>\n",
       "    </tr>\n",
       "    <tr>\n",
       "      <th>Recall</th>\n",
       "      <td>0.391586</td>\n",
       "      <td>0.323625</td>\n",
       "      <td>0.504854</td>\n",
       "      <td>0.346278</td>\n",
       "      <td>0.423948</td>\n",
       "    </tr>\n",
       "    <tr>\n",
       "      <th>F1-Score</th>\n",
       "      <td>0.439201</td>\n",
       "      <td>0.4329</td>\n",
       "      <td>0.492891</td>\n",
       "      <td>0.45339</td>\n",
       "      <td>0.478976</td>\n",
       "    </tr>\n",
       "    <tr>\n",
       "      <th>ROC-AUC</th>\n",
       "      <td>0.577165</td>\n",
       "      <td>0.609852</td>\n",
       "      <td>0.587721</td>\n",
       "      <td>0.618237</td>\n",
       "      <td>0.607072</td>\n",
       "    </tr>\n",
       "  </tbody>\n",
       "</table>\n",
       "</div>"
      ],
      "text/plain": [
       "                KNN       SVM Decision Tree Random Forest   XGBoost\n",
       "Accuracy   0.622711  0.680098      0.608059      0.684982  0.652015\n",
       "Precision       0.5  0.653595      0.481481      0.656442   0.55042\n",
       "Recall     0.391586  0.323625      0.504854      0.346278  0.423948\n",
       "F1-Score   0.439201    0.4329      0.492891       0.45339  0.478976\n",
       "ROC-AUC    0.577165  0.609852      0.587721      0.618237  0.607072"
      ]
     },
     "metadata": {},
     "output_type": "display_data"
    },
    {
     "name": "stdout",
     "output_type": "stream",
     "text": [
      "\n",
      "Random Forest After Tuning:\n"
     ]
    },
    {
     "data": {
      "text/html": [
       "<div>\n",
       "<style scoped>\n",
       "    .dataframe tbody tr th:only-of-type {\n",
       "        vertical-align: middle;\n",
       "    }\n",
       "\n",
       "    .dataframe tbody tr th {\n",
       "        vertical-align: top;\n",
       "    }\n",
       "\n",
       "    .dataframe thead th {\n",
       "        text-align: right;\n",
       "    }\n",
       "</style>\n",
       "<table border=\"1\" class=\"dataframe\">\n",
       "  <thead>\n",
       "    <tr style=\"text-align: right;\">\n",
       "      <th></th>\n",
       "      <th>Random Forest</th>\n",
       "    </tr>\n",
       "  </thead>\n",
       "  <tbody>\n",
       "    <tr>\n",
       "      <th>Accuracy</th>\n",
       "      <td>0.663004</td>\n",
       "    </tr>\n",
       "    <tr>\n",
       "      <th>Precision</th>\n",
       "      <td>0.726027</td>\n",
       "    </tr>\n",
       "    <tr>\n",
       "      <th>Recall</th>\n",
       "      <td>0.171521</td>\n",
       "    </tr>\n",
       "    <tr>\n",
       "      <th>F1-Score</th>\n",
       "      <td>0.277487</td>\n",
       "    </tr>\n",
       "    <tr>\n",
       "      <th>ROC-AUC</th>\n",
       "      <td>0.566153</td>\n",
       "    </tr>\n",
       "  </tbody>\n",
       "</table>\n",
       "</div>"
      ],
      "text/plain": [
       "          Random Forest\n",
       "Accuracy       0.663004\n",
       "Precision      0.726027\n",
       "Recall         0.171521\n",
       "F1-Score       0.277487\n",
       "ROC-AUC        0.566153"
      ]
     },
     "metadata": {},
     "output_type": "display_data"
    }
   ],
   "source": [
    "# Baseline model evaluation comparison\n",
    "print(\"Performance Comparison:\")\n",
    "display(df_model)\n",
    "\n",
    "print(\"\\nRandom Forest After Tuning:\")\n",
    "display(model_tuning)"
   ]
  },
  {
   "cell_type": "markdown",
   "metadata": {},
   "source": [
    "Setelah dilakukan hyperparameter tuning, terlihat bahwa terdapat kenaikan nilai pada metrics precision seperti yang diharapkan untuk memenuhi objective. Namun tuning ini juga mengakibatkan penurunan yang cukup drastis pada evaluation metrics lainnya terutama pada score Recall yang kemudian berdampak pula pada score F1 Score."
   ]
  },
  {
   "cell_type": "markdown",
   "metadata": {},
   "source": [
    "---"
   ]
  },
  {
   "cell_type": "markdown",
   "metadata": {},
   "source": [
    "# Model Saving"
   ]
  },
  {
   "cell_type": "code",
   "execution_count": 50,
   "metadata": {},
   "outputs": [],
   "source": [
    "# Saving Best Model Pipeline\n",
    "pickle.dump(best_pipe_rf, open('model_rf.pkl', 'wb'))"
   ]
  },
  {
   "cell_type": "markdown",
   "metadata": {},
   "source": [
    "---"
   ]
  },
  {
   "cell_type": "markdown",
   "metadata": {},
   "source": [
    "# Model Inference"
   ]
  },
  {
   "cell_type": "markdown",
   "metadata": {},
   "source": [
    "Terpisah pada file lain."
   ]
  },
  {
   "cell_type": "markdown",
   "metadata": {},
   "source": [
    "---"
   ]
  },
  {
   "cell_type": "markdown",
   "metadata": {},
   "source": [
    "# Conclusion"
   ]
  },
  {
   "cell_type": "markdown",
   "metadata": {},
   "source": [
    "Terkait dengan data, dataset pada project ini tergolong pada binary classification, yang mana melalui Exploratory Data Analysis (EDA) dapat diketahui bahwa proporsi kategori kelas (Non-potable & Potable) pada dataset ini tidak seimbang yaitu data kelas Non-Potable(0) sebesar 61% dan data kelas Potable(1) sebesar 39%. Kemudian berdasarkan visualisasi histogram, dapat dikatakan bahwa features dataset ini berdistribusi normal dengan beberapa ouliers minor."
   ]
  },
  {
   "cell_type": "markdown",
   "metadata": {},
   "source": [
    "Berdasarkan objective yang ingin dicapai, maka evaluation metrics yang digunakan sebagai acuan adalah metrics Precision, kemudian didukung dengan evaluation metrics yang bersifat menyeluruh seperti F1 Score dan ROC-AUC. Pada perbandingan evaluation metrics dari tiap baseline model, didapat bahwa seluruh model memiliki performa yang menurut saya kurang memuaskan atau < 80%. Dari seluruh model, model Random Forest dipilih untuk dilanjutkan pada tahap optimasi karena terlihat memiliki score yang lebih baik dibanding model lainnya. Setelah melakukan optimasi/parameter tuning pada model Random Forest, terdapat kenaikan nilai pada metrics Precision yang semulanya sebesar 65% menjadi 72%. Ini berarti performa model dalam memprediksi seluruh kasus yang tergolong Potable (air yang layak minum) tersebut memang benar-benar potable dalam aktualnya adalah sebesar 72%. Meskipun mengalami kenaikan, performa metrics Precision tersebut masih belum memuaskan atau setidaknya >80%. Selain itu, ternyata adanya parameter tuning yang dilakukan malah menurunkan score pada evaluation metrics yang lain."
   ]
  },
  {
   "cell_type": "markdown",
   "metadata": {},
   "source": [
    "Secara keseluruhan, menurut saya performa model yang dibuat pada project ini masih belum memuaskan bahkan setelah dilakukan parameter tuning. Sehingga berdasarkan hal ini, dapat diasumsikan bahwa features yang ada di data ini tidak cukup kuat untuk membantu model dalam membedakan 2 kelas target yaitu kelas Non-Potable (0) dan Potable (1). Kemudian, adapun saran yang dapat saya berikan untuk meningkatkan performa model ini yaitu bisa melakukan data balancing terlebih dahulu, lalu selain itu mungkin untuk handling missing values tidak perlu melakukan imputasi tetapi bisa langsung melakukan dropna."
   ]
  },
  {
   "cell_type": "markdown",
   "metadata": {},
   "source": [
    "---"
   ]
  },
  {
   "cell_type": "markdown",
   "metadata": {},
   "source": [
    "# Conceptual Problems"
   ]
  },
  {
   "cell_type": "markdown",
   "metadata": {},
   "source": [
    "1. Jelaskan latar belakang adanya bagging dan cara kerja bagging! <br>\n",
    "Teknik ensemble learning Bagging (Bootstrap Aggregating) dilatarbelakangi oleh adanya kendala/tantangan yang dihadapi oleh individual model ketika harus menangani/memprediksi dataset kompleks seperti data dengan varians yang tinggi atau prediksi yang selalu overfitting, dimana adanya setiap perubahan kecil data akan mempengaruhi stabilitas dan akurasi. Berdasarkan masalah tersebut, maka dihadirkanlah teknik Bagging dengan ide utamanya yang akan melatih beberapa model secara independen pada subset yang berbeda (parallel training), kemudian hasilnya akan dikombinasikan melalui rerata atau voting mayoritas."
   ]
  },
  {
   "cell_type": "markdown",
   "metadata": {},
   "source": [
    "2. Jelaskan perbedaan cara kerja algoritma Random Forest dengan algoritma boosting yang Anda pilih! <br>\n",
    "Pada project ini, algoritma boosting yang digunakan adalah XGBoost. Random Forest tergolong pada algoritma Bagging (Bootstrap Aggregating) sehingga tentu memiliki perbedaan cara kerja dengan XGBoost yang tergolong pada algoritma Boosting. Pada Random Forest, pohon model yang terbentuk akan dilatih secara parallel atau dapat dikatakan setiap model akan dilatih secara independen dengan subset random, yang kemudian barulah prediksi akhir akan dibuat dengan merata-ratakan hasil prediksi tiap model. Sedangkan untuk XGBoost, ensembel model yang dibangun merupakan hasil prediksi model yang dikerjakan secara berurutan atau sequentially. Proses akan diawali oleh sebuah model awal yang kemudian berdasarkan hasil prediksinya akan dibentuk model baru untuk mengoreksi kesalahan hasil prediksi model pertama tersebut, proses ini akan terus berulang hingga program menemukan model terbaik yang bisa didapatkan."
   ]
  },
  {
   "cell_type": "markdown",
   "metadata": {},
   "source": [
    "3. Jelaskan apa yang dimaksud dengan Cross Validation! <br>\n",
    "Cros Validation merupakan sebuah teknik statistik yang digunakan untuk menilai/memperkirakan kinerja model dalam ranah machine learning. Secara sederhana, Cross Validation melibatkan adanya partisi data yang tersedia kedalam beberapa subset lalu mengevaluasi tiap subset kepada subset lainnya, adapun proses tersebut akan diulangi beberapa kali untuk mendapatkan performa metrics yang kuat (tahan akan adanya data baru)."
   ]
  }
 ],
 "metadata": {
  "kernelspec": {
   "display_name": "base",
   "language": "python",
   "name": "python3"
  },
  "language_info": {
   "codemirror_mode": {
    "name": "ipython",
    "version": 3
   },
   "file_extension": ".py",
   "mimetype": "text/x-python",
   "name": "python",
   "nbconvert_exporter": "python",
   "pygments_lexer": "ipython3",
   "version": "3.9.18"
  }
 },
 "nbformat": 4,
 "nbformat_minor": 2
}
